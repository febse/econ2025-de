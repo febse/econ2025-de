{
 "cells": [
  {
   "cell_type": "markdown",
   "id": "99363d32ecbb9d73",
   "metadata": {
    "collapsed": false
   },
   "source": [
    "# Python Basics\n",
    "\n",
    "[![Open In Colab](https://colab.research.google.com/assets/colab-badge.svg)](https://colab.research.google.com/github/febse/econ2025-de/blob/main/01-Python/01-01-Basics.ipynb)\n",
    "\n",
    "Github Classroom Link: [https://classroom.github.com/a/NF7qSSTn](https://classroom.github.com/a/NF7qSSTn)\n",
    "\n",
    "## Jupyter Notebooks in VS Code {#jupyter-notebooks-in-vs-code}\n",
    "\n",
    "Häufig verwendete Tastenkombinationen\n",
    "\n",
    "- `Enter`: Bearbeitungsmodus einschalten\n",
    "- `Esc`: Kommando-Modus einschalten\n",
    "\n",
    "Shortcuts für den Kommando-Modus (Edit Mode)\n",
    "\n",
    "- `A` : Eine Zelle oberhalb der aktuellen Zelle einfügen\n",
    "- `B` : Eine Zelle unterhalb der aktuellen Zelle einfügen\n",
    "- `Alt + ↑`: Zelle nach oben verschieben\n",
    "- `Alt + ↓`: Zelle nach unten verschieben\n",
    "- `Alt + Shift + ↑`: Zelle nach oben kopieren (Fokus bleibt auf der aktuellen Zelle)\n",
    "- `Alt + Shift + ↓`: Zelle nach unten kopieren (der Fokus wechselt zur nächsten Zelle)\n",
    "- `dd` : Zelle löschen\n",
    "- `z` : Die letzte Änderung rückgängig machen\n",
    "- `M` : Die Zelle in eine Markdown-Zelle umwandeln\n",
    "- `Y`: Die Zelle in eine Code-Zelle umwandeln\n",
    "\n",
    "Shortcuts für den Edit Modus\n",
    "- `Alt + Shift + ↑`:  Die aktuelle Zeile nach oben kopieren (Fokus bleibt auf der aktuellen Zeile)\n",
    "- `Alt + Shift + ↓`: Die aktuelle Zeile nach unten kopieren (Fokus verlagert sich zur nächsten Zeile)\n",
    "- `Ctrl+Enter/Shift+Enter`: Markierte Zelle ausführen und Fokus auf die nächste Zelle setzen\n",
    "\n",
    "Shortcuts für beide Modi\n",
    "\n",
    "- `Ctrl+Enter` : Die aktuelle Zelle ausführen (Fokus bleibt auf der aktuellen Zelle)\n",
    "- `Shift+Enter` : Die aktuelle Zelle ausführen und Fokus auf die nächste Zelle setzen\n",
    "- `Alt+Enter` : Die aktuelle Zelle ausführen und eine neue Zelle einfügen"
   ]
  },
  {
   "cell_type": "markdown",
   "id": "522932a9",
   "metadata": {},
   "source": [
    "\n",
    "## Arithmetische Operationen\n"
   ]
  },
  {
   "cell_type": "code",
   "execution_count": 1,
   "id": "initial_id",
   "metadata": {
    "ExecuteTime": {
     "end_time": "2024-01-22T16:31:02.270609379Z",
     "start_time": "2024-01-22T16:31:02.028245110Z"
    }
   },
   "outputs": [
    {
     "data": {
      "text/plain": [
       "2"
      ]
     },
     "execution_count": 1,
     "metadata": {},
     "output_type": "execute_result"
    }
   ],
   "source": [
    "# Addition\n",
    "1 + 1"
   ]
  },
  {
   "cell_type": "markdown",
   "id": "33e224d2",
   "metadata": {},
   "source": [
    "Die Varianz von Y ist größer als die Varianz von X. Das bedeutet, daß die Werte, die Y produziert, weiter von ihrem Erwartungswert entfernt sein werden als die Werte, die X produziert."
   ]
  },
  {
   "cell_type": "code",
   "execution_count": 2,
   "id": "d04b6d2e3ece3708",
   "metadata": {
    "ExecuteTime": {
     "end_time": "2024-01-22T16:31:02.380949774Z",
     "start_time": "2024-01-22T16:31:02.356553320Z"
    }
   },
   "outputs": [
    {
     "data": {
      "text/plain": [
       "0.5"
      ]
     },
     "execution_count": 2,
     "metadata": {},
     "output_type": "execute_result"
    }
   ],
   "source": [
    "# Division\n",
    "1 / 2"
   ]
  },
  {
   "cell_type": "code",
   "execution_count": 3,
   "id": "fe855d03391dd94",
   "metadata": {
    "ExecuteTime": {
     "end_time": "2024-01-22T16:31:02.426499917Z",
     "start_time": "2024-01-22T16:31:02.379252047Z"
    }
   },
   "outputs": [
    {
     "data": {
      "text/plain": [
       "6"
      ]
     },
     "execution_count": 3,
     "metadata": {},
     "output_type": "execute_result"
    }
   ],
   "source": [
    "# Multiplikation\n",
    "2 * 3"
   ]
  },
  {
   "cell_type": "code",
   "execution_count": 4,
   "id": "8c3ad557fec00261",
   "metadata": {
    "ExecuteTime": {
     "end_time": "2024-01-22T16:31:02.446783024Z",
     "start_time": "2024-01-22T16:31:02.421259492Z"
    }
   },
   "outputs": [
    {
     "data": {
      "text/plain": [
       "783.1098528099996"
      ]
     },
     "execution_count": 4,
     "metadata": {},
     "output_type": "execute_result"
    }
   ],
   "source": [
    "# Potenz\n",
    "2.3 ** 8"
   ]
  },
  {
   "cell_type": "code",
   "execution_count": 5,
   "id": "2702b9caad95811e",
   "metadata": {
    "ExecuteTime": {
     "end_time": "2024-01-22T16:31:02.282583332Z",
     "start_time": "2024-01-22T16:31:02.266615902Z"
    }
   },
   "outputs": [
    {
     "data": {
      "text/plain": [
       "int"
      ]
     },
     "execution_count": 5,
     "metadata": {},
     "output_type": "execute_result"
    }
   ],
   "source": [
    "# Typ\n",
    "type(1)"
   ]
  },
  {
   "cell_type": "code",
   "execution_count": 6,
   "id": "56600d0ec706f9ab",
   "metadata": {
    "ExecuteTime": {
     "end_time": "2024-01-22T16:31:02.338672321Z",
     "start_time": "2024-01-22T16:31:02.285376625Z"
    }
   },
   "outputs": [
    {
     "data": {
      "text/plain": [
       "float"
      ]
     },
     "execution_count": 6,
     "metadata": {},
     "output_type": "execute_result"
    }
   ],
   "source": [
    "type(1.0)"
   ]
  },
  {
   "cell_type": "markdown",
   "id": "9c4aa5391ef37cf",
   "metadata": {
    "collapsed": false
   },
   "source": [
    "### Zuweisung (Assignment)\n",
    "\n",
    "Wir können Werte Variablen zuweisen. In Python verwenden wir dazu das Gleichheitszeichen `=`. Der Wert auf der rechten Seite des Gleichheitszeichens wird der Variablen auf der linken Seite zugewiesen. Anders als in der Mathematik, wo die Gleichung `x = 3` bedeutet, dass `x` gleich `3` ist, bedeutet die Zuweisung `x = 3` in Python, dass der Wert `3` in der Variablen `x` gespeichert wird. Python speichert dann den Wert `3` im Speicher des Rechners und weist ihm den Namen `x` zu.\n"
   ]
  },
  {
   "cell_type": "code",
   "execution_count": 7,
   "id": "666d2d5517ee9e58",
   "metadata": {
    "ExecuteTime": {
     "end_time": "2024-01-22T16:31:02.570664044Z",
     "start_time": "2024-01-22T16:31:02.504913168Z"
    }
   },
   "outputs": [],
   "source": [
    "x = 1\n",
    "y = 5"
   ]
  },
  {
   "cell_type": "code",
   "execution_count": 8,
   "id": "ce4c5851e059bda5",
   "metadata": {
    "ExecuteTime": {
     "end_time": "2024-01-22T16:31:02.645476557Z",
     "start_time": "2024-01-22T16:31:02.576462308Z"
    }
   },
   "outputs": [
    {
     "data": {
      "text/plain": [
       "6"
      ]
     },
     "execution_count": 8,
     "metadata": {},
     "output_type": "execute_result"
    }
   ],
   "source": [
    "x + y"
   ]
  },
  {
   "cell_type": "code",
   "execution_count": 9,
   "id": "f15a300c352a0fbf",
   "metadata": {
    "ExecuteTime": {
     "end_time": "2024-01-22T16:31:02.661959631Z",
     "start_time": "2024-01-22T16:31:02.635191379Z"
    }
   },
   "outputs": [
    {
     "data": {
      "text/plain": [
       "int"
      ]
     },
     "execution_count": 9,
     "metadata": {},
     "output_type": "execute_result"
    }
   ],
   "source": [
    "type(x)"
   ]
  },
  {
   "cell_type": "markdown",
   "id": "5cc05778ebf281f2",
   "metadata": {
    "collapsed": false
   },
   "source": [
    "### Logische Werte (Booleans)\n",
    "\n",
    "In Python gibt es auch logische Werte (Booleans). Diese können nur zwei Werte annehmen: `True` und `False`.\n",
    "In den meisten Fällen werden wir diese Werte verwenden, um Bedingungen zu formulieren."
   ]
  },
  {
   "cell_type": "code",
   "execution_count": 21,
   "id": "c3c2a7e51335f247",
   "metadata": {
    "ExecuteTime": {
     "end_time": "2024-01-22T16:31:03.534543513Z",
     "start_time": "2024-01-22T16:31:03.473201752Z"
    }
   },
   "outputs": [
    {
     "data": {
      "text/plain": [
       "False"
      ]
     },
     "execution_count": 21,
     "metadata": {},
     "output_type": "execute_result"
    }
   ],
   "source": [
    "1 > 2"
   ]
  },
  {
   "cell_type": "code",
   "execution_count": 22,
   "id": "c5c8ce126d48a102",
   "metadata": {
    "ExecuteTime": {
     "end_time": "2024-01-22T16:31:03.622791146Z",
     "start_time": "2024-01-22T16:31:03.534699600Z"
    }
   },
   "outputs": [
    {
     "data": {
      "text/plain": [
       "True"
      ]
     },
     "execution_count": 22,
     "metadata": {},
     "output_type": "execute_result"
    }
   ],
   "source": [
    "1 < 3"
   ]
  },
  {
   "cell_type": "code",
   "execution_count": 23,
   "id": "ec3fe58c2a850bae",
   "metadata": {
    "ExecuteTime": {
     "end_time": "2024-01-22T16:31:03.632399619Z",
     "start_time": "2024-01-22T16:31:03.577060719Z"
    }
   },
   "outputs": [
    {
     "data": {
      "text/plain": [
       "True"
      ]
     },
     "execution_count": 23,
     "metadata": {},
     "output_type": "execute_result"
    }
   ],
   "source": [
    "2 == 2"
   ]
  },
  {
   "cell_type": "code",
   "execution_count": 24,
   "id": "541ba5aa4c64c14d",
   "metadata": {
    "ExecuteTime": {
     "end_time": "2024-01-22T16:31:03.698442527Z",
     "start_time": "2024-01-22T16:31:03.602398089Z"
    }
   },
   "outputs": [
    {
     "data": {
      "text/plain": [
       "True"
      ]
     },
     "execution_count": 24,
     "metadata": {},
     "output_type": "execute_result"
    }
   ],
   "source": [
    "\"hallo\" == \"hallo\""
   ]
  },
  {
   "cell_type": "code",
   "execution_count": 25,
   "id": "881a18fedfd3f5b2",
   "metadata": {
    "ExecuteTime": {
     "end_time": "2024-01-22T16:31:03.701591073Z",
     "start_time": "2024-01-22T16:31:03.680729255Z"
    }
   },
   "outputs": [
    {
     "data": {
      "text/plain": [
       "False"
      ]
     },
     "execution_count": 25,
     "metadata": {},
     "output_type": "execute_result"
    }
   ],
   "source": [
    "\"hallo\" == \"Hallo\""
   ]
  },
  {
   "cell_type": "markdown",
   "id": "0dd8ac12",
   "metadata": {},
   "source": [
    "## Print\n",
    "\n",
    "In Jupyter Notebooks wird der letzte Wert in einer Zelle automatisch ausgegeben. Wenn wir jedoch den Wert einer Variablen oder einen anderen Wert ausgeben möchten, können wir die Funktion `print()` verwenden."
   ]
  },
  {
   "cell_type": "code",
   "execution_count": null,
   "id": "35910571",
   "metadata": {},
   "outputs": [
    {
     "name": "stdout",
     "output_type": "stream",
     "text": [
      "Hallo Welt\n",
      "Hallo Welt, heute ist Tag Nummer 1\n",
      "Hallo Welt, heute ist Tag Nummer 2 .\n"
     ]
    }
   ],
   "source": [
    "print(\"Hallo Welt\")\n",
    "print(\"Hallo Welt, heute ist Tag Nummer\", 1)\n",
    "\n",
    "x = 5\n",
    "\n",
    "print(\"Hallo Welt, heute ist Tag Nummer\", x)\n"
   ]
  },
  {
   "cell_type": "markdown",
   "id": "c209b07aa5a6762f",
   "metadata": {
    "collapsed": false
   },
   "source": [
    "## Listen und Tupel\n",
    "\n",
    "In vielen Fällen werden wir nicht nur einzelne Werte, sondern mehrere Werte zusammen verwenden wollen.\n",
    "Als Beispiel nehmen wir eine Liste mit monatlichem Stromverbrauch eines Unternehmens (für 12 Monate in EUR)."
   ]
  },
  {
   "cell_type": "code",
   "execution_count": 26,
   "id": "8b991750",
   "metadata": {},
   "outputs": [],
   "source": [
    "stromverbrauch = [100, 120, 80, 90, 110, 100, 120, 80, 90.12, 110, 100, 120.22]"
   ]
  },
  {
   "cell_type": "markdown",
   "id": "ccad1cc6",
   "metadata": {},
   "source": [
    "Wir können auf einzelne Elemente einer Liste zugreifen, indem wir den Index des Elements in eckigen Klammern hinter den Namen der Liste schreiben. Wie in den meisten Programmiersprachen **beginnt der Index bei 0**."
   ]
  },
  {
   "cell_type": "code",
   "execution_count": 27,
   "id": "4de856e4",
   "metadata": {},
   "outputs": [
    {
     "data": {
      "text/plain": [
       "100"
      ]
     },
     "execution_count": 27,
     "metadata": {},
     "output_type": "execute_result"
    }
   ],
   "source": [
    "stromverbrauch[0]"
   ]
  },
  {
   "cell_type": "code",
   "execution_count": 28,
   "id": "e5c97217",
   "metadata": {},
   "outputs": [
    {
     "data": {
      "text/plain": [
       "120"
      ]
     },
     "execution_count": 28,
     "metadata": {},
     "output_type": "execute_result"
    }
   ],
   "source": [
    "stromverbrauch[1]"
   ]
  },
  {
   "cell_type": "code",
   "execution_count": 29,
   "id": "beab8a6c",
   "metadata": {},
   "outputs": [
    {
     "data": {
      "text/plain": [
       "120.22"
      ]
     },
     "execution_count": 29,
     "metadata": {},
     "output_type": "execute_result"
    }
   ],
   "source": [
    "stromverbrauch[11]"
   ]
  },
  {
   "cell_type": "markdown",
   "id": "8a1cf5f1",
   "metadata": {},
   "source": [
    "Versuchen wir auf ein Element zuzugreifen, das nicht existiert, erhalten wir einen Fehler."
   ]
  },
  {
   "cell_type": "code",
   "execution_count": 30,
   "id": "a97c98db",
   "metadata": {},
   "outputs": [],
   "source": [
    "# stromverbrauch[12]"
   ]
  },
  {
   "cell_type": "markdown",
   "id": "39cd427c",
   "metadata": {},
   "source": [
    "Die Länge einer Liste können wir mit der Funktion `len` bestimmen. Diese gibt uns die Anzahl der Elemente in der Liste zurück."
   ]
  },
  {
   "cell_type": "code",
   "execution_count": 31,
   "id": "21e9bdd9",
   "metadata": {},
   "outputs": [
    {
     "data": {
      "text/plain": [
       "12"
      ]
     },
     "execution_count": 31,
     "metadata": {},
     "output_type": "execute_result"
    }
   ],
   "source": [
    "len(stromverbrauch)"
   ]
  },
  {
   "cell_type": "markdown",
   "id": "f37fa789",
   "metadata": {},
   "source": [
    "Wir können auch auf die letzten Elemente einer Liste zugreifen, indem wir negative Indizes verwenden."
   ]
  },
  {
   "cell_type": "code",
   "execution_count": 32,
   "id": "ea0d52fd",
   "metadata": {},
   "outputs": [
    {
     "data": {
      "text/plain": [
       "120.22"
      ]
     },
     "execution_count": 32,
     "metadata": {},
     "output_type": "execute_result"
    }
   ],
   "source": [
    "stromverbrauch[len(stromverbrauch) - 1]"
   ]
  },
  {
   "cell_type": "code",
   "execution_count": 33,
   "id": "59534bf8",
   "metadata": {},
   "outputs": [
    {
     "data": {
      "text/plain": [
       "120.22"
      ]
     },
     "execution_count": 33,
     "metadata": {},
     "output_type": "execute_result"
    }
   ],
   "source": [
    "stromverbrauch[-1]"
   ]
  },
  {
   "cell_type": "markdown",
   "id": "6e0e3cb1",
   "metadata": {},
   "source": [
    "Wir können auch auf mehrere Elemente einer Liste zugreifen, indem wir den Index des ersten Elements und den Index des letzten Elements in eckigen Klammern hinter den Namen der Liste schreiben. Der Index des letzten Elements ist dabei exklusiv."
   ]
  },
  {
   "cell_type": "code",
   "execution_count": 34,
   "id": "2e43d0e3",
   "metadata": {},
   "outputs": [
    {
     "data": {
      "text/plain": [
       "[100, 120, 80]"
      ]
     },
     "execution_count": 34,
     "metadata": {},
     "output_type": "execute_result"
    }
   ],
   "source": [
    "stromverbrauch[0:3]"
   ]
  },
  {
   "cell_type": "markdown",
   "id": "75425b00",
   "metadata": {},
   "source": [
    "Das ist das gleiche wie"
   ]
  },
  {
   "cell_type": "code",
   "execution_count": 35,
   "id": "490dfb58",
   "metadata": {},
   "outputs": [
    {
     "data": {
      "text/plain": [
       "[100, 120, 80]"
      ]
     },
     "execution_count": 35,
     "metadata": {},
     "output_type": "execute_result"
    }
   ],
   "source": [
    "stromverbrauch[:3]"
   ]
  },
  {
   "cell_type": "code",
   "execution_count": 36,
   "id": "1815fbf9",
   "metadata": {},
   "outputs": [
    {
     "data": {
      "text/plain": [
       "True"
      ]
     },
     "execution_count": 36,
     "metadata": {},
     "output_type": "execute_result"
    }
   ],
   "source": [
    "stromverbrauch[0:3] == stromverbrauch[:3]"
   ]
  },
  {
   "cell_type": "code",
   "execution_count": 37,
   "id": "6b0d7183",
   "metadata": {},
   "outputs": [
    {
     "data": {
      "text/plain": [
       "[90, 110, 100]"
      ]
     },
     "execution_count": 37,
     "metadata": {},
     "output_type": "execute_result"
    }
   ],
   "source": [
    "stromverbrauch[3:6]"
   ]
  },
  {
   "cell_type": "markdown",
   "id": "c141d058",
   "metadata": {},
   "source": [
    "Wir können einzelne Elemente einer Liste auch verändern."
   ]
  },
  {
   "cell_type": "code",
   "execution_count": 38,
   "id": "001c6e12",
   "metadata": {},
   "outputs": [
    {
     "data": {
      "text/plain": [
       "[1, 120, 80, 90, 110, 100, 120, 80, 90.12, 110, 100, 120.22]"
      ]
     },
     "execution_count": 38,
     "metadata": {},
     "output_type": "execute_result"
    }
   ],
   "source": [
    "stromverbrauch[0] = 1\n",
    "stromverbrauch"
   ]
  },
  {
   "cell_type": "markdown",
   "id": "fb70a8d1",
   "metadata": {},
   "source": [
    "Wir können auch mehrere Elemente einer Liste auf einmal verändern."
   ]
  },
  {
   "cell_type": "code",
   "execution_count": 39,
   "id": "52a25838",
   "metadata": {},
   "outputs": [
    {
     "data": {
      "text/plain": [
       "[5, 5, 8, 90, 110, 100, 120, 80, 90.12, 110, 100, 120.22]"
      ]
     },
     "execution_count": 39,
     "metadata": {},
     "output_type": "execute_result"
    }
   ],
   "source": [
    "stromverbrauch[0:3] = [5, 5, 8]\n",
    "stromverbrauch"
   ]
  },
  {
   "cell_type": "markdown",
   "id": "c640f2c8",
   "metadata": {},
   "source": [
    "Tuple sind wie Listen, nur dass sie nicht verändert werden können. Wir können sie mit runden Klammern erstellen. Im folgenden Beispiel erstellen wir ein Tuple mit den Monatsnamen. Dann versuchen wir, das erste Element zu verändern. Das funktioniert nicht."
   ]
  },
  {
   "cell_type": "code",
   "execution_count": 40,
   "id": "40b54446",
   "metadata": {},
   "outputs": [],
   "source": [
    "monatsnamen = (\"Januar\", \"Februar\", \"März\", \"April\", \"Mai\", \"Juni\", \"Juli\",\n",
    "               \"August\", \"September\", \"Oktober\", \"November\", \"Dezember\")"
   ]
  },
  {
   "cell_type": "code",
   "execution_count": 41,
   "id": "a3832d40",
   "metadata": {},
   "outputs": [],
   "source": [
    "# monatsnamen[0] = \"Jänner\""
   ]
  },
  {
   "cell_type": "markdown",
   "id": "75c9dc2f",
   "metadata": {},
   "source": [
    "### Funktionen\n",
    "\n",
    "Sehr häufig möchten wir ein und dieselbe Operation mit verschiedenen Daten (Argumenten) ausführen, ohne dass wir den Code jedes Mal neu schreiben zu müssen.\n",
    "Dafür können wir Funktionen verwenden. In Python definieren wir eine Funktion mit dem Schlüsselwort `def` gefolgt von dem Namen der Funktion und den Argumenten in runden Klammern. Der Funktionskörper wird eingerückt. Mit dem Schlüsselwort `return` geben wir das Ergebnis der Funktion zurück.\n",
    "\n",
    "\n",
    "Als Beispiel nehmen wir eine Funktion, die einen numerischen Wert als Argument nimmt, es mit 1.955 multipliziert und das Ergebnis zurückgibt. Die Funktion nennen\n",
    "wir `eur_to_bgn`."
   ]
  },
  {
   "cell_type": "code",
   "execution_count": 60,
   "id": "d9876d0a",
   "metadata": {},
   "outputs": [
    {
     "data": {
      "text/plain": [
       "195.5"
      ]
     },
     "execution_count": 60,
     "metadata": {},
     "output_type": "execute_result"
    }
   ],
   "source": [
    "def eur_to_bgn(x):\n",
    "    return 1.955 * x\n",
    "\n",
    "eur_to_bgn(100)"
   ]
  },
  {
   "cell_type": "markdown",
   "id": "7170c6cb",
   "metadata": {},
   "source": [
    "Funktionen können auch mehrere Argumente haben. Die Argumente werden durch Kommas getrennt."
   ]
  },
  {
   "cell_type": "code",
   "execution_count": 61,
   "id": "1ed0eb71",
   "metadata": {},
   "outputs": [
    {
     "data": {
      "text/plain": [
       "3"
      ]
     },
     "execution_count": 61,
     "metadata": {},
     "output_type": "execute_result"
    }
   ],
   "source": [
    "def my_simple_sum(x, y):\n",
    "    return x + y\n",
    "\n",
    "my_simple_sum(1, 2)"
   ]
  },
  {
   "cell_type": "markdown",
   "id": "23db832f",
   "metadata": {},
   "source": [
    "Schreiben Sie eine Funktion `calculate_vat`, die einen numerischen Wert als Argument nimmt und den Mehrwertsteuerbetrag (20%) zurückgibt.\n"
   ]
  },
  {
   "cell_type": "markdown",
   "id": "66e71e0e",
   "metadata": {},
   "source": [
    "Schreiben Sie eine Funktion, die zwei numerische Argumente annimmt `amounts` und `vat_rate`. Das erste Argument ist eine Liste von numerischen Werten (Betrag ohne Mehrwertsteuer). Das zweite Argument ist der Mehrwertsteuersatz in Prozent. Die Funktion soll eine Liste von numerischen Werten (Betrag mit Mehrwertsteuer) zurückgeben."
   ]
  },
  {
   "cell_type": "markdown",
   "id": "e24924cd",
   "metadata": {},
   "source": [
    "## Klassen und Objekte\n",
    "\n",
    "Bisher haben wir verschiedene Datentypen gesehen, drei verschiedene Datenstrukturen (Listen, Tupel und Dictionaries) und Funktionen gesehen. In Python gibt es auch Objekte, die Daten und Funktionen zusammenbinden. Funktionen, die zu einem Objekt gehören, nennen wir Methoden. Objekte werden aus Klassen erstellt. Klassen sind wie Baupläne für Objekte.\n",
    "In den Übungen werden wir keine Klassen selber definieren, allerdings werden wir Objekte wie DataFrame, Series, etc. verwenden, die aus Klassen erstellt wurden. Deswegen ist es wichtig, dass Sie wissen, wie Sie mit Objekten umgehen können.\n",
    "\n",
    "Zuerst definieren wir eine Klasse `Person`. Diese hat zwei Attribute: `name` und `age`. Die Klasse erlaubt uns, ein Objekt zu erstellen, das diese beiden Attribute hat. Wir können auch eine Methode `say_hello` definieren, die uns erlaubt, \"Hallo\" und den Namen der Person auszugeben. Alle Methoden, wie z.B. `say_hello` erhalten das Argument `self`, das das Objekt selbst ist. Dadurch können wir über Methoden auf die Eigenschaften des Objekts zugreifen."
   ]
  },
  {
   "cell_type": "code",
   "execution_count": 63,
   "id": "4a774b97",
   "metadata": {},
   "outputs": [],
   "source": [
    "class Person:\n",
    "    def __init__(self, name, age):\n",
    "        self.name = name\n",
    "        self.age = age\n",
    "\n",
    "    def say_hello(self):\n",
    "        print(\"Hi, my name is\", self.name, \"and I am\", self.age, \"years old.\")"
   ]
  },
  {
   "cell_type": "code",
   "execution_count": 64,
   "id": "0657506f",
   "metadata": {},
   "outputs": [
    {
     "name": "stdout",
     "output_type": "stream",
     "text": [
      "Ivan\n",
      "20\n"
     ]
    }
   ],
   "source": [
    "ivan = Person(\"Ivan\", 20)\n",
    "betty = Person(\"Betty\", 25)\n",
    "\n",
    "print(ivan.name)\n",
    "print(ivan.age)"
   ]
  },
  {
   "cell_type": "code",
   "execution_count": 65,
   "id": "dd716bc6",
   "metadata": {},
   "outputs": [
    {
     "name": "stdout",
     "output_type": "stream",
     "text": [
      "Hi, my name is Ivan and I am 20 years old.\n"
     ]
    }
   ],
   "source": [
    "ivan.say_hello()"
   ]
  },
  {
   "cell_type": "code",
   "execution_count": 66,
   "id": "8e766aa1",
   "metadata": {},
   "outputs": [
    {
     "name": "stdout",
     "output_type": "stream",
     "text": [
      "Hi, my name is Betty and I am 25 years old.\n"
     ]
    }
   ],
   "source": [
    "betty.say_hello()"
   ]
  }
 ],
 "metadata": {
  "kernelspec": {
   "display_name": "Python 3",
   "language": "python",
   "name": "python3"
  },
  "language_info": {
   "codemirror_mode": {
    "name": "ipython",
    "version": 3
   },
   "file_extension": ".py",
   "mimetype": "text/x-python",
   "name": "python",
   "nbconvert_exporter": "python",
   "pygments_lexer": "ipython3",
   "version": "3.11.11"
  }
 },
 "nbformat": 4,
 "nbformat_minor": 5
}
