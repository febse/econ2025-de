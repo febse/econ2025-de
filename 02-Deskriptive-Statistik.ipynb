{
 "cells": [
  {
   "cell_type": "markdown",
   "metadata": {},
   "source": [
    "# Deskriptive Statistik\n",
    "\n",
    "\n",
    "In dieser Übung werden wir die Grundlagen der deskriptiven Statistik mit Pandas kennenlernen. Wir werden uns mit den folgenden Themen beschäftigen:\n",
    "\n",
    "- Daten einlesen\n",
    "- Einfache Datentransformationen durchführen\n",
    "- Deskriptive Statistiken berechnen und interpretieren\n",
    "- Daten visualisieren\n",
    "\n",
    "Im folgenden werden wir die Daten einer Studie über die Besucher eines Einkaufszentrums analysieren. Die Daten enthalten 1816 Interviews von Personen in einem Einkaufszentrum. Wir werden die folgenden Variablen betrachten:\n",
    "\n",
    "- *height* (numeric): Größe in Inch (1 Inch = 2.54 cm)\n",
    "- *weight* (numeric): Körpergewicht in Pfund (pounds) (1 pound $\\approx$ 0.45 kilograms)\n",
    "- *male* (numeric): 1: Männlich, 0: Weiblich\n",
    "- *earn* (numeric): Jahreseinkommen USD\n",
    "- *earnk* (numeric): Jahreseinkommen in 1,000 USD\n",
    "- *ethnicity* (character): Ethnie (White, Black, Hispanic, Other)\n",
    "- *age* (numeric): Alter (in Jahren)"
   ]
  },
  {
   "cell_type": "code",
   "execution_count": 1,
   "metadata": {},
   "outputs": [],
   "source": [
    "# Pakete importieren\n",
    "\n",
    "import numpy as np\n",
    "import pandas as pd\n",
    "import seaborn as sns"
   ]
  },
  {
   "cell_type": "code",
   "execution_count": 2,
   "metadata": {},
   "outputs": [
    {
     "data": {
      "text/html": [
       "<div>\n",
       "<style scoped>\n",
       "    .dataframe tbody tr th:only-of-type {\n",
       "        vertical-align: middle;\n",
       "    }\n",
       "\n",
       "    .dataframe tbody tr th {\n",
       "        vertical-align: top;\n",
       "    }\n",
       "\n",
       "    .dataframe thead th {\n",
       "        text-align: right;\n",
       "    }\n",
       "</style>\n",
       "<table border=\"1\" class=\"dataframe\">\n",
       "  <thead>\n",
       "    <tr style=\"text-align: right;\">\n",
       "      <th></th>\n",
       "      <th>height</th>\n",
       "      <th>weight</th>\n",
       "      <th>male</th>\n",
       "      <th>earn</th>\n",
       "      <th>earnk</th>\n",
       "      <th>ethnicity</th>\n",
       "      <th>education</th>\n",
       "      <th>mother_education</th>\n",
       "      <th>father_education</th>\n",
       "      <th>walk</th>\n",
       "      <th>exercise</th>\n",
       "      <th>smokenow</th>\n",
       "      <th>tense</th>\n",
       "      <th>angry</th>\n",
       "      <th>age</th>\n",
       "    </tr>\n",
       "  </thead>\n",
       "  <tbody>\n",
       "    <tr>\n",
       "      <th>0</th>\n",
       "      <td>74</td>\n",
       "      <td>210.0</td>\n",
       "      <td>1</td>\n",
       "      <td>50000.0</td>\n",
       "      <td>50.0</td>\n",
       "      <td>White</td>\n",
       "      <td>16.0</td>\n",
       "      <td>16.0</td>\n",
       "      <td>16.0</td>\n",
       "      <td>3</td>\n",
       "      <td>3</td>\n",
       "      <td>2.0</td>\n",
       "      <td>0.0</td>\n",
       "      <td>0.0</td>\n",
       "      <td>45</td>\n",
       "    </tr>\n",
       "    <tr>\n",
       "      <th>1</th>\n",
       "      <td>66</td>\n",
       "      <td>125.0</td>\n",
       "      <td>0</td>\n",
       "      <td>60000.0</td>\n",
       "      <td>60.0</td>\n",
       "      <td>White</td>\n",
       "      <td>16.0</td>\n",
       "      <td>16.0</td>\n",
       "      <td>16.0</td>\n",
       "      <td>6</td>\n",
       "      <td>5</td>\n",
       "      <td>1.0</td>\n",
       "      <td>0.0</td>\n",
       "      <td>0.0</td>\n",
       "      <td>58</td>\n",
       "    </tr>\n",
       "    <tr>\n",
       "      <th>2</th>\n",
       "      <td>64</td>\n",
       "      <td>126.0</td>\n",
       "      <td>0</td>\n",
       "      <td>30000.0</td>\n",
       "      <td>30.0</td>\n",
       "      <td>White</td>\n",
       "      <td>16.0</td>\n",
       "      <td>16.0</td>\n",
       "      <td>16.0</td>\n",
       "      <td>8</td>\n",
       "      <td>1</td>\n",
       "      <td>2.0</td>\n",
       "      <td>1.0</td>\n",
       "      <td>1.0</td>\n",
       "      <td>29</td>\n",
       "    </tr>\n",
       "    <tr>\n",
       "      <th>3</th>\n",
       "      <td>65</td>\n",
       "      <td>200.0</td>\n",
       "      <td>0</td>\n",
       "      <td>25000.0</td>\n",
       "      <td>25.0</td>\n",
       "      <td>White</td>\n",
       "      <td>17.0</td>\n",
       "      <td>17.0</td>\n",
       "      <td>NaN</td>\n",
       "      <td>8</td>\n",
       "      <td>1</td>\n",
       "      <td>2.0</td>\n",
       "      <td>0.0</td>\n",
       "      <td>0.0</td>\n",
       "      <td>57</td>\n",
       "    </tr>\n",
       "    <tr>\n",
       "      <th>4</th>\n",
       "      <td>63</td>\n",
       "      <td>110.0</td>\n",
       "      <td>0</td>\n",
       "      <td>50000.0</td>\n",
       "      <td>50.0</td>\n",
       "      <td>Other</td>\n",
       "      <td>16.0</td>\n",
       "      <td>16.0</td>\n",
       "      <td>16.0</td>\n",
       "      <td>5</td>\n",
       "      <td>6</td>\n",
       "      <td>2.0</td>\n",
       "      <td>0.0</td>\n",
       "      <td>0.0</td>\n",
       "      <td>91</td>\n",
       "    </tr>\n",
       "  </tbody>\n",
       "</table>\n",
       "</div>"
      ],
      "text/plain": [
       "   height  weight  male     earn  earnk ethnicity  education  \\\n",
       "0      74   210.0     1  50000.0   50.0     White       16.0   \n",
       "1      66   125.0     0  60000.0   60.0     White       16.0   \n",
       "2      64   126.0     0  30000.0   30.0     White       16.0   \n",
       "3      65   200.0     0  25000.0   25.0     White       17.0   \n",
       "4      63   110.0     0  50000.0   50.0     Other       16.0   \n",
       "\n",
       "   mother_education  father_education  walk  exercise  smokenow  tense  angry  \\\n",
       "0              16.0              16.0     3         3       2.0    0.0    0.0   \n",
       "1              16.0              16.0     6         5       1.0    0.0    0.0   \n",
       "2              16.0              16.0     8         1       2.0    1.0    1.0   \n",
       "3              17.0               NaN     8         1       2.0    0.0    0.0   \n",
       "4              16.0              16.0     5         6       2.0    0.0    0.0   \n",
       "\n",
       "   age  \n",
       "0   45  \n",
       "1   58  \n",
       "2   29  \n",
       "3   57  \n",
       "4   91  "
      ]
     },
     "execution_count": 2,
     "metadata": {},
     "output_type": "execute_result"
    }
   ],
   "source": [
    "# Zuerst laden wir die Daten\n",
    "# In den Übungen brauchen Sie sich um das Laden der Daten nicht zu kümmern, der Code zum Einlesen wir von uns bereitgestellt.\n",
    "\n",
    "customers = pd.read_csv('https://github.com/febse/data/raw/main/econ/earnings.csv')\n",
    "\n",
    "# Die ersten 5 Zeilen anzeigen, um einen Überblick zu bekommen\n",
    "customers.head()"
   ]
  },
  {
   "cell_type": "code",
   "execution_count": 3,
   "metadata": {},
   "outputs": [
    {
     "data": {
      "text/plain": [
       "(1816, 15)"
      ]
     },
     "execution_count": 3,
     "metadata": {},
     "output_type": "execute_result"
    }
   ],
   "source": [
    "# Die Anzahl der Zeilen und Spalten anzeigen\n",
    "customers.shape"
   ]
  },
  {
   "cell_type": "code",
   "execution_count": 4,
   "metadata": {},
   "outputs": [
    {
     "data": {
      "text/plain": [
       "Index(['height', 'weight', 'male', 'earn', 'earnk', 'ethnicity', 'education',\n",
       "       'mother_education', 'father_education', 'walk', 'exercise', 'smokenow',\n",
       "       'tense', 'angry', 'age'],\n",
       "      dtype='object')"
      ]
     },
     "execution_count": 4,
     "metadata": {},
     "output_type": "execute_result"
    }
   ],
   "source": [
    "# Die Spaltennamen anzeigen\n",
    "customers.columns"
   ]
  },
  {
   "cell_type": "markdown",
   "metadata": {},
   "source": [
    "The dataset `customers` contains 1816 observations (customers) and 15 variables (columns). We will focus on the variables *height* and *weight* for now. \n",
    "We want to understand the characteristics of the customers in terms of their height and weight. It is extremely difficult to process and understand the raw\n",
    "data directly, because we must think about $2 \\times 1816 = 3632$ numbers. Therefore, we need to reduce the data to a few numbers that we can reason about. This is the goal of descriptive statistics.\n",
    "\n",
    "In diesem Kurs werden wir uns auf zwei Fragen konzentrieren:\n",
    "- Wo liegen die Daten (Lage, location)?\n",
    "- Wie start streuen die Daten? In diesem Beispiel können wir uns z.B. fragen wie unterschiedlich die Besucher in Bezug auf ihre Größe sind.\n",
    "\n",
    "Die wichtigste Zusammenfassungsstatistik (eine Funktion der Daten) ist der Stichprobenmittelwert, auch bekannt als arithmetisches Mittel.\n",
    "Um den Mittelwert und weitere Statistiken zu definieren, führen wir hier einige Notationen ein.\n",
    "\n",
    "## Notation\n",
    "\n",
    "Eine Variable ist eine Eigenschaft, die wir an einer Person, einem Objekt oder einem Ereignis messen können. In diesem Beispiel ist die Variable *height* die Größe einer Person. Im allgemeinen werden wir solche Variablen mit mit lateinischen Buchstaben bezeichnen, z.B. $x$, $y$, $z$. Was diese Bezeichnungen bedeuten, hängt vom Kontext ab. In diesem Beispiel sei $x$ die Größe der Personen aus der Erhebung. Wir werden die Beobachtungen (hier Personen) üblicherweise mit einem Index bezeichnen: $i = 1,2, \\ldots, n$, wobei $n$ die Anzahl der Beobachtungen ist. Die Werte der Variable $x$ für die Beobachtungen $i = 1,2, \\ldots, n$ bezeichnen wir mit $x_1, x_2, \\ldots, x_n$.\n",
    "\n",
    "Zum Beispiel ist die Größe des zweiten Besuchers $x_2 = 66$ Inch.\n",
    "\n",
    ":::{#def-sample-mean}\n",
    "## Stichprobenmittelwert (Sample Mean)\n",
    "\n",
    "\n",
    "$$\n",
    "\\bar{x} = \\frac{1}{n} \\sum_{i=1}^{n} x_i\n",
    "$$\n",
    "\n",
    "Das ist einfach die Summe aller Werte geteilt durch die Anzahl der Werte.\n",
    "\n",
    "$$\n",
    "\\bar{x} = \\frac{x_1 + x_2 + \\ldots + x_n}{n}\n",
    "$$\n",
    "\n",
    ":::\n",
    "\n",
    ":::{#exm-sample-mean}\n",
    "## Stichprobenmittelwert\n",
    "\n",
    "Lasst uns den Mittelwert der ersten drei Besucher ausrechnen: $x_1 = 74, x_2 = 66, x_3 = 64$.\n",
    "\n",
    "$$\n",
    "\\frac{74 + 66 + 64}{3} = 68\n",
    "$$\n",
    "\n",
    ":::\n"
   ]
  },
  {
   "cell_type": "code",
   "execution_count": 5,
   "metadata": {},
   "outputs": [
    {
     "data": {
      "text/plain": [
       "66"
      ]
     },
     "execution_count": 5,
     "metadata": {},
     "output_type": "execute_result"
    }
   ],
   "source": [
    "# Extract the height of the second customer\n",
    "# Remember that the index is 0-based, so the second customer has index 1\n",
    "customers[\"height\"][1]"
   ]
  },
  {
   "cell_type": "code",
   "execution_count": 6,
   "metadata": {},
   "outputs": [
    {
     "data": {
      "text/plain": [
       "0    74\n",
       "1    66\n",
       "2    64\n",
       "Name: height, dtype: int64"
      ]
     },
     "execution_count": 6,
     "metadata": {},
     "output_type": "execute_result"
    }
   ],
   "source": [
    "# Extract the heights of the first three customers\n",
    "# Remember that indexing is exclusive, so the last index is not included\n",
    "customers[\"height\"][:3]"
   ]
  },
  {
   "cell_type": "code",
   "execution_count": 7,
   "metadata": {},
   "outputs": [
    {
     "data": {
      "text/plain": [
       "68.0"
      ]
     },
     "execution_count": 7,
     "metadata": {},
     "output_type": "execute_result"
    }
   ],
   "source": [
    "# Calculate the average height of the first three customers\n",
    "customers[\"height\"][:3].mean()"
   ]
  },
  {
   "cell_type": "markdown",
   "metadata": {},
   "source": [
    "Nun möchten wir den Mittelwert der Größe für alle Besucher berechnen. "
   ]
  },
  {
   "cell_type": "code",
   "execution_count": 8,
   "metadata": {},
   "outputs": [
    {
     "name": "stdout",
     "output_type": "stream",
     "text": [
      "66.56883259911895\n",
      "66.56883259911895\n"
     ]
    }
   ],
   "source": [
    "print(customers[\"height\"].mean())\n",
    "print(np.mean(customers[\"height\"]))"
   ]
  },
  {
   "cell_type": "markdown",
   "metadata": {},
   "source": [
    "## Streuung\n",
    "\n",
    "Der Mittelwert informiert uns über das Zentrum (Lage) der Daten. Die zweite Charakteristik einer Variable, die wir verstehen wollen, ist wie weit die Daten verteilt sind (wie unterschiedlich, heterogen, die Kunden in Bezug auf die Größe sind, zum Beispiel). Der Begriff der Streuung ist abstrakt und kann auf verschiedene Weisen gemessen werden. Wir können uns die Streuung zum Beispiel als die durchschnittliche Differenz der Kunden zum Mittelwert vorstellen. Dies ist das Konzept der Varianz.\n",
    "\n",
    ":::{#def-sample-variance}\n",
    "## Stichprobenvarianz und Stichprobenstandardabweichung\n",
    "\n",
    "Für eine Variable $x$ mit $n$ Beobachtungen: $x_1, x_2, \\ldots, x_n$, ist die Stichprobenvarianz definiert als:\n",
    "\n",
    "$$\n",
    "S_x^2 = \\frac{1}{n-1} \\sum_{i=1}^{n} (x_i - \\bar{x})^2\n",
    "$$\n",
    "\n",
    "Dabei ist $\\bar{x}$ der Stichprobenmittelwert.\n",
    "\n",
    "Die Stichprobenstandardabweichung ist die Quadratwurzel der Stichprobenvarianz:\n",
    "\n",
    "$$\n",
    "S_x = \\sqrt{S^2}\n",
    "$$\n",
    "\n",
    ":::\n",
    "\n",
    ":::{#exm-sample-variance}\n",
    "## Stichprobenvarianz und Stichprobenstandardabweichung\n",
    "\n",
    "Lasst uns die Stichprobenstandardabweichung für die ersten drei Besucher berechnen $x_1 = 74, x_2 = 66, x_3 = 64$.\n",
    "\n",
    "Zuerst müssen wir den Stichprobenmittelwert ausrechnen: $\\bar{x} = 68$ (@exm-sample-mean)\n",
    "\n",
    "Danach berechnen wir die Differenzen der Werte zum Mittelwert und quadrieren diese:\n",
    "\n",
    "$$\n",
    "S^2 = \\frac{(74 - 68)^2 + (66 - 68)^2 + (64 - 68)^2}{3-1} = \\frac{36 + 4 + 16}{2} = 28\n",
    "$$\n",
    "\n",
    "Die Stichprobenstandardabweichung ist die Quadratwurzel der Stichprobenvarianz:\n",
    "\n",
    "$$\n",
    "S = \\sqrt{28} \\approx 5.29\n",
    "$$\n",
    "\n",
    ":::"
   ]
  },
  {
   "cell_type": "code",
   "execution_count": 9,
   "metadata": {},
   "outputs": [
    {
     "data": {
      "text/plain": [
       "28.0"
      ]
     },
     "execution_count": 9,
     "metadata": {},
     "output_type": "execute_result"
    }
   ],
   "source": [
    "# Hier replizieren wir die Berechnung der Varianz der Größe der ersten drei Kunden\n",
    "customers[\"height\"][0:3].var()\n"
   ]
  },
  {
   "cell_type": "code",
   "execution_count": 10,
   "metadata": {},
   "outputs": [
    {
     "data": {
      "text/plain": [
       "18.666666666666668"
      ]
     },
     "execution_count": 10,
     "metadata": {},
     "output_type": "execute_result"
    }
   ],
   "source": [
    "# Sie können die Varianz auch mit der numpy Funktion np.var berechnen\n",
    "\n",
    "np.var(customers[\"height\"][0:3])"
   ]
  },
  {
   "cell_type": "code",
   "execution_count": 11,
   "metadata": {},
   "outputs": [
    {
     "data": {
      "text/plain": [
       "28.0"
      ]
     },
     "execution_count": 11,
     "metadata": {},
     "output_type": "execute_result"
    }
   ],
   "source": [
    "np.var(customers[\"height\"][0:3], ddof=1)"
   ]
  },
  {
   "cell_type": "code",
   "execution_count": 12,
   "metadata": {},
   "outputs": [
    {
     "data": {
      "text/plain": [
       "5.291502622129181"
      ]
     },
     "execution_count": 12,
     "metadata": {},
     "output_type": "execute_result"
    }
   ],
   "source": [
    "# Die Standardabweichung der Größe der ersten drei Besucher berechnen\n",
    "\n",
    "customers[\"height\"][0:3].std()"
   ]
  },
  {
   "cell_type": "code",
   "execution_count": 13,
   "metadata": {},
   "outputs": [
    {
     "data": {
      "text/plain": [
       "5.291502622129181"
      ]
     },
     "execution_count": 13,
     "metadata": {},
     "output_type": "execute_result"
    }
   ],
   "source": [
    "np.std(customers[\"height\"][0:3], ddof=1)"
   ]
  },
  {
   "cell_type": "markdown",
   "metadata": {},
   "source": [
    "`np.var` und `np.std` berechnen die Stichprobenvarianz und -standardabweichung nach der Formel\n",
    "\n",
    "$$\n",
    "S^2 = \\frac{1}{1 - \\text{ddof}} \\sum_{i=1}^{n} (x_i - \\bar{x})^2\n",
    "$$\n",
    "\n",
    "wobei `ddof` die Anzahl der Freiheitsgrade im Nenner (denominator degrees of freedom) steht. Die Voreinstellung ist `ddof=0`."
   ]
  },
  {
   "cell_type": "markdown",
   "metadata": {},
   "source": [
    "## Weitere Maße der Lage und Streuung\n",
    "\n",
    "Die Reduzierung auf einen einzigen Wert als Stichprobenmittelwert ist sehr nützlich, weil wir leicht darüber nachdenken können (nur ein Wert). Allerdings ignoriert diese Reduktion viele Details über die Kunden. Zum Beispiel wissen wir nicht, wie viele Kunden nahe am Mittelwert sind, wie viele weit entfernt sind, und so weiter. Die Standardabweichung hilft uns, dies zu verstehen, ist aber immer noch eine einzige Zahl.\n",
    "\n",
    "Um unser Verständnis der Daten weiter zu vertiefen, können wir andere Maße der Lage und Streuung verwenden.\n",
    "\n",
    "- Der Median ist der Wert, der die Daten in zwei gleiche Hälften teilt. Es ist der Wert, der die gleiche Anzahl von Beobachtungen über und unter sich hat. Sie können sagen, dass etwa die Hälfte der Beobachtungen einen Wert kleiner als den Median hat und etwa die andere Hälfte einen Wert größer als den Median hat. Ein anderer Name für den Median ist das zweite Quartil (Q2). Dies kommt daher, dass die Stichprobe in vier Teile geteilt wird. Ein weiterer Name für den Median ist das 50. Perzentil (Teilung der Stichprobe in 100 Teile) oder das 0,5-Quantil.\n",
    "- Das erste Quartil (Q1) ist der Wert, der die ersten 25% der Daten von den restlichen trennt. Sie können sagen, dass ungefähr 25% der Beobachtungen einen Wert kleiner als Q1 und 75% einen Wert größer als Q1 haben. Ein anderer Name für das erste Quartil ist das 25. Perzentil oder das 0,25-Quantil.\n",
    "- Das zweite Quartil (Q2) ist der Median.\n",
    "- Das dritte Quartil (Q3) ist der Wert, der die ersten 75% der Daten von den restlichen trennt. Sie können sagen, dass ungefähr 75% der Beobachtungen einen Wert kleiner als Q3 und 25% einen Wert größer als Q3 haben. Ein anderer Name für das dritte Quartil ist das 75. Perzentil oder das 0,75-Quantil.\n",
    "- Das Maximum ist der größte Wert in den Daten. Es wird manchmal das 100. Perzentil genannt.\n",
    "- Das Minimum ist der kleinste Wert in den Daten. Es wird manchmal das 0. Perzentil genannt.\n",
    "\n",
    "\n",
    "Die Differenz zwischen dem Minimum und dem Maximum ist der Bereich (range) der Daten. Es ist ein Maß für die Streuung der Daten, aber es ist sehr anfällig für extreme Werte. Ein Ausreißer ist ein Wert, der sehr weit von den anderen Werten entfernt ist. Der Median und die Quartile sind weniger anfällig für Ausreißer und werden als robuste Maße der Lage und Streuung bezeichnet.\n",
    "\n",
    "Die Differenz zwischen dem dritten und dem ersten Quartil ist der Interquartilsabstand (IQR). Es ist ein Maß für die Streuung der mittleren 50% der Daten. Es ist auch ein robustes Maß der Streuung, da es weniger anfällig für Ausreißer ist."
   ]
  },
  {
   "cell_type": "code",
   "execution_count": 14,
   "metadata": {},
   "outputs": [
    {
     "data": {
      "text/plain": [
       "count    1816.000000\n",
       "mean       66.568833\n",
       "std         3.831822\n",
       "min        57.000000\n",
       "25%        64.000000\n",
       "50%        66.000000\n",
       "75%        69.250000\n",
       "max        82.000000\n",
       "Name: height, dtype: float64"
      ]
     },
     "execution_count": 14,
     "metadata": {},
     "output_type": "execute_result"
    }
   ],
   "source": [
    "# Mittelwert, Standardabweichung, Minimum und Maximum und die Quartile der Größe der Kunden berechnen\n",
    "\n",
    "customers[\"height\"].describe()"
   ]
  },
  {
   "cell_type": "code",
   "execution_count": 15,
   "metadata": {},
   "outputs": [
    {
     "name": "stdout",
     "output_type": "stream",
     "text": [
      "57\n",
      "64.0\n",
      "66.0\n",
      "69.25\n",
      "82\n"
     ]
    }
   ],
   "source": [
    "# Falls wir nur eine der statistischen Kennzahlen berechnen wollen, können wir auch die entsprechende Funktion verwenden\n",
    "\n",
    "print(customers[\"height\"].min())\n",
    "print(customers[\"height\"].quantile(0.25))\n",
    "print(customers[\"height\"].quantile(0.5))\n",
    "print(customers[\"height\"].quantile(0.75))\n",
    "print(customers[\"height\"].max())"
   ]
  },
  {
   "cell_type": "code",
   "execution_count": 16,
   "metadata": {},
   "outputs": [
    {
     "data": {
      "text/plain": [
       "5.25"
      ]
     },
     "execution_count": 16,
     "metadata": {},
     "output_type": "execute_result"
    }
   ],
   "source": [
    "# Den Interquartilsabstand berechnen\n",
    "\n",
    "customers[\"height\"].quantile(0.75) - customers[\"height\"].quantile(0.25)"
   ]
  },
  {
   "cell_type": "markdown",
   "metadata": {},
   "source": [
    "Berechnen Sie den Mittelwert, Median, Standardabweichung, Minimum, Maximum, Quartile und Interquartilsabstand für das Gewicht der Kunden."
   ]
  },
  {
   "cell_type": "code",
   "execution_count": 17,
   "metadata": {},
   "outputs": [],
   "source": [
    "# Schreiben Sie Ihren Code hier\n"
   ]
  },
  {
   "cell_type": "markdown",
   "metadata": {},
   "source": [
    "Häufig werden diese Quantile und der Interquartilsabstand in einem Boxplot dargestellt. Ein Boxplot ist ein Diagramm, das die Verteilung der Daten in einem Box-Whisker-Diagramm darstellt. Die Box repräsentiert das Interquartilsintervall (IQR). Die Whisker repräsentieren die Daten außerhalb des IQR. Punkte, die außerhalb der Whisker liegen sind Punkte, die weit von den anderen Daten entfernt sind und werden Ausreißer genannt (was ein Ausreißer ist, ist allerdings kompliziert).\n"
   ]
  },
  {
   "cell_type": "code",
   "execution_count": 18,
   "metadata": {},
   "outputs": [
    {
     "data": {
      "text/plain": [
       "<Axes: >"
      ]
     },
     "execution_count": 18,
     "metadata": {},
     "output_type": "execute_result"
    },
    {
     "data": {
      "image/png": "[encoded data removed]",
      "text/plain": [
       "<Figure size 672x480 with 1 Axes>"
      ]
     },
     "metadata": {
      "image/png": {
       "height": 411,
       "width": 557
      }
     },
     "output_type": "display_data"
    }
   ],
   "source": [
    "sns.boxplot(customers[\"height\"], orient=\"h\")"
   ]
  },
  {
   "cell_type": "markdown",
   "metadata": {},
   "source": [
    "Die Boxplots sind nützlich, wenn wir die Verteilung einer Variablen in verschiedenen Gruppen vergleichen wollen. Als Beispiel können wir die Verteilung der Größe in verschiedenen ethnischen Gruppen vergleichen."
   ]
  },
  {
   "cell_type": "code",
   "execution_count": 19,
   "metadata": {},
   "outputs": [
    {
     "data": {
      "text/plain": [
       "<Axes: xlabel='height', ylabel='ethnicity'>"
      ]
     },
     "execution_count": 19,
     "metadata": {},
     "output_type": "execute_result"
    },
    {
     "data": {
      "image/png": "[encoded data removed]",
      "text/plain": [
       "<Figure size 672x480 with 1 Axes>"
      ]
     },
     "metadata": {
      "image/png": {
       "height": 429,
       "width": 624
      }
     },
     "output_type": "display_data"
    }
   ],
   "source": [
    "sns.boxplot(x = customers[\"height\"], y = customers[\"ethnicity\"])"
   ]
  },
  {
   "cell_type": "markdown",
   "metadata": {},
   "source": [
    "## Zusammenfassung kategorialer Variablen\n",
    "\n",
    "Der Mittelwert und die Standardabweichung machen nur für Variablen Sinn, für die Addition und Multiplikation sinnvoll sind. Insbesondere machen sie keinen Sinn für kategoriale Variablen, z. B. die Ethnie der Kunden.\n",
    "\n",
    "Die wichtigste Zusammenfassung für kategoriale Variablen ist die Häufigkeitstabelle. Eine Häufigkeitstabelle zeigt die Anzahl der Beobachtungen für jede Kategorie. Die relative Häufigkeitstabelle zeigt den Anteil der Beobachtungen für jede Kategorie.\n"
   ]
  },
  {
   "cell_type": "code",
   "execution_count": 20,
   "metadata": {},
   "outputs": [
    {
     "data": {
      "text/plain": [
       "ethnicity\n",
       "White       1494\n",
       "Black        180\n",
       "Hispanic     104\n",
       "Other         38\n",
       "Name: count, dtype: int64"
      ]
     },
     "execution_count": 20,
     "metadata": {},
     "output_type": "execute_result"
    }
   ],
   "source": [
    "customers[\"ethnicity\"].value_counts()"
   ]
  },
  {
   "cell_type": "code",
   "execution_count": 21,
   "metadata": {},
   "outputs": [
    {
     "data": {
      "text/plain": [
       "<Axes: xlabel='ethnicity', ylabel='count'>"
      ]
     },
     "execution_count": 21,
     "metadata": {},
     "output_type": "execute_result"
    },
    {
     "data": {
      "image/png": "[encoded data removed]",
      "text/plain": [
       "<Figure size 672x480 with 1 Axes>"
      ]
     },
     "metadata": {
      "image/png": {
       "height": 429,
       "width": 601
      }
     },
     "output_type": "display_data"
    }
   ],
   "source": [
    "sns.countplot(data = customers, x=\"ethnicity\")"
   ]
  },
  {
   "cell_type": "markdown",
   "metadata": {},
   "source": [
    "## Datentransformationen\n",
    "\n",
    "Es ist in fast jeder Analyse notwendig, die Daten zu transformieren. Als Beispiel können wir die Größe in Inch in Zentimeter umrechnen. Die Umrechnung von Inch in Zentimeter erfolgt durch Multiplikation mit 2,54. Die Umrechnung von Pfund in Kilogramm erfolgt durch Multiplikation mit 0,45."
   ]
  },
  {
   "cell_type": "code",
   "execution_count": 22,
   "metadata": {},
   "outputs": [],
   "source": [
    "# Hier erstellen wir eine neue Spalte, die die Größe in cm enthält\n",
    "customers[\"height_cm\"] = customers[\"height\"] * 2.54"
   ]
  },
  {
   "cell_type": "code",
   "execution_count": 23,
   "metadata": {},
   "outputs": [],
   "source": [
    "# Erstellen Sie eine neue Spalte \"weight_kg\" in dem Dataframe \"customers\", die die Werte der Spalte \"weight\" in Kilogramm umrechnet.\n",
    "# 1 Pfund entspricht 0.453592 Kilogramm.\n"
   ]
  },
  {
   "cell_type": "markdown",
   "metadata": {},
   "source": [
    "Häufig möchten wir eine stetige Variable in Kategorien einteilen. Zum Beispiel möchten wir eine Variable erstellen, die angibt, ob eine Person jünger als 30 Jahre ist oder nicht. Dies ist eine binäre Variable, die wir aus einer kontinuierlichen Variable erstellen."
   ]
  },
  {
   "cell_type": "code",
   "execution_count": 24,
   "metadata": {},
   "outputs": [
    {
     "data": {
      "text/plain": [
       "0    False\n",
       "1    False\n",
       "2     True\n",
       "3    False\n",
       "4    False\n",
       "Name: is_under_30, dtype: bool"
      ]
     },
     "execution_count": 24,
     "metadata": {},
     "output_type": "execute_result"
    }
   ],
   "source": [
    "customers[\"is_under_30\"] = customers[\"age\"] < 30\n",
    "customers[\"is_under_30\"].head()"
   ]
  },
  {
   "cell_type": "markdown",
   "metadata": {},
   "source": [
    "Falls wir mehr als zwei Kategorien brauchen, bietet die Funktion `pd.cut` die Möglichkeit, die Daten in Kategorien einzuteilen."
   ]
  },
  {
   "cell_type": "code",
   "execution_count": 25,
   "metadata": {},
   "outputs": [
    {
     "data": {
      "text/plain": [
       "age\n",
       "(30.0, 64.0]    1041\n",
       "(0.0, 30.0]      512\n",
       "(64.0, inf]      263\n",
       "Name: count, dtype: int64"
      ]
     },
     "execution_count": 25,
     "metadata": {},
     "output_type": "execute_result"
    }
   ],
   "source": [
    "# Wir lassen uns die Häufigkeitsverteilung der Altersgruppen ausgeben,\n",
    "# um zu sehen, wie pd.cut funktioniert\n",
    "\n",
    "pd.cut(\n",
    "    customers[\"age\"],\n",
    "    bins=[0, 30, 64, np.inf],\n",
    ").value_counts()"
   ]
  },
  {
   "cell_type": "code",
   "execution_count": 26,
   "metadata": {},
   "outputs": [
    {
     "data": {
      "text/html": [
       "<div>\n",
       "<style scoped>\n",
       "    .dataframe tbody tr th:only-of-type {\n",
       "        vertical-align: middle;\n",
       "    }\n",
       "\n",
       "    .dataframe tbody tr th {\n",
       "        vertical-align: top;\n",
       "    }\n",
       "\n",
       "    .dataframe thead th {\n",
       "        text-align: right;\n",
       "    }\n",
       "</style>\n",
       "<table border=\"1\" class=\"dataframe\">\n",
       "  <thead>\n",
       "    <tr style=\"text-align: right;\">\n",
       "      <th></th>\n",
       "      <th>age</th>\n",
       "      <th>age_group</th>\n",
       "    </tr>\n",
       "  </thead>\n",
       "  <tbody>\n",
       "    <tr>\n",
       "      <th>0</th>\n",
       "      <td>45</td>\n",
       "      <td>30-64</td>\n",
       "    </tr>\n",
       "    <tr>\n",
       "      <th>1</th>\n",
       "      <td>58</td>\n",
       "      <td>30-64</td>\n",
       "    </tr>\n",
       "    <tr>\n",
       "      <th>2</th>\n",
       "      <td>29</td>\n",
       "      <td>&lt;30</td>\n",
       "    </tr>\n",
       "    <tr>\n",
       "      <th>3</th>\n",
       "      <td>57</td>\n",
       "      <td>30-64</td>\n",
       "    </tr>\n",
       "    <tr>\n",
       "      <th>4</th>\n",
       "      <td>91</td>\n",
       "      <td>65+</td>\n",
       "    </tr>\n",
       "  </tbody>\n",
       "</table>\n",
       "</div>"
      ],
      "text/plain": [
       "   age age_group\n",
       "0   45     30-64\n",
       "1   58     30-64\n",
       "2   29       <30\n",
       "3   57     30-64\n",
       "4   91       65+"
      ]
     },
     "execution_count": 26,
     "metadata": {},
     "output_type": "execute_result"
    }
   ],
   "source": [
    "# Hier weisen wir Etiketten der Kategorien und speichern das Ergebnis in einer neuen Spalte \"age_group\"\n",
    "\n",
    "customers[\"age_group\"] = pd.cut(\n",
    "    customers[\"age\"],\n",
    "    bins=[0, 30, 64, np.inf],\n",
    "    labels=[\"<30\", \"30-64\", \"65+\"]\n",
    ")\n",
    "\n",
    "# Als Kontrolle lassen wir uns die ersten 5 Zeilen des Dataframes anzeigen\n",
    "customers[[\"age\", \"age_group\"]].head()"
   ]
  },
  {
   "cell_type": "markdown",
   "metadata": {},
   "source": [
    "## Aufgabe \n",
    "\n",
    "Berechnen Sie den BMI (Body Mass Index) für die Kunden. Der BMI ist definiert als das Körpergewicht in Kilogramm geteilt durch das Quadrat der Größe in Metern. Das Gewicht muss in Kilogramm und die Größe in Metern sein."
   ]
  },
  {
   "cell_type": "code",
   "execution_count": 27,
   "metadata": {},
   "outputs": [],
   "source": [
    "# Erstellen Sie die Spalte \"bmi\" in dem Dataframe \"customers\", die den Body Mass Index berechnet.\n",
    "\n",
    "customers[\"bmi\"] = customers[\"weight\"] / (customers[\"height\"] / 100) ** 2"
   ]
  },
  {
   "cell_type": "markdown",
   "metadata": {},
   "source": [
    "Die [Referenzwerte](https://www.cdc.gov/healthyweight/assessing/index.html) für den BMI sind:\n",
    "\n",
    "- Unter 18,5: Untergewicht\n",
    "- 18,5 - 24,9: Normalgewicht\n",
    "- 25 - 29,9: Übergewicht\n",
    "- 30 oder mehr: Adipositas\n",
    "\n",
    "- Ein Verkäufer behauptet, daß die Kunden im Einkaufszentrum im Durchschnitt übergewichtig sind. Überprüfen Sie diese Behauptung anhand der Daten.\n",
    "- Ein anderer Verkäufer behauptet, daß mehr als ein Viertel der Besucher im Einkaufszentrum adipös sind. Überprüfen Sie diese Behauptung anhand der Daten."
   ]
  },
  {
   "cell_type": "code",
   "execution_count": 28,
   "metadata": {},
   "outputs": [
    {
     "data": {
      "text/plain": [
       "351.1234041165582"
      ]
     },
     "execution_count": 28,
     "metadata": {},
     "output_type": "execute_result"
    }
   ],
   "source": [
    "# Berechnen Sie den durchschnittlichen BMI\n",
    "\n",
    "customers[\"bmi\"].mean()"
   ]
  },
  {
   "cell_type": "code",
   "execution_count": 29,
   "metadata": {},
   "outputs": [
    {
     "data": {
      "text/plain": [
       "count    1789.000000\n",
       "mean      351.123404\n",
       "std        65.866606\n",
       "min       163.265306\n",
       "25%       307.478675\n",
       "50%       340.136054\n",
       "75%       378.703497\n",
       "max       761.862330\n",
       "Name: bmi, dtype: float64"
      ]
     },
     "execution_count": 29,
     "metadata": {},
     "output_type": "execute_result"
    }
   ],
   "source": [
    "# Lassen Sie sich die Beschreibung der Spalte \"bmi\" anzeigen. (Tipp: Verwenden Sie die Methode .describe() der Spalte \"bmi\").\n",
    "\n",
    "customers[\"bmi\"].describe()"
   ]
  },
  {
   "cell_type": "markdown",
   "metadata": {},
   "source": [
    "Erstellen Sie eine neue Spalte `is_underweight` in der Tabelle `customers`, die angibt, ob ein Kunde untergewichtig ist oder nicht. Erstellen Sie eine weitere Spalte \n",
    "`is_normal` in der Tabelle `customers`, die angibt, ob ein Kunde ein Normalgewicht hat oder nicht.\n",
    "\n",
    "*Hinweis*: Sie können diese Variable mit den logischen Operatoren `<`, `<=`, `>`, `>=` und `==` erstellen. Logische Operationen können Sie mit den Operatoren `&` (und), `|` (oder) und `~` (nicht) verknüpfen (Hinweis: hier brauchen Sie `und`).\n"
   ]
  },
  {
   "cell_type": "code",
   "execution_count": 30,
   "metadata": {},
   "outputs": [],
   "source": [
    "# Erstellen Sie die zwei Variablen hier\n",
    "\n",
    "customers[\"is_overweight\"] = customers[\"bmi\"] > 25"
   ]
  },
  {
   "cell_type": "markdown",
   "metadata": {},
   "source": [
    "Wie viele Kunden sind untergewichtig? Wie viele Kunden haben ein Normalgewicht? *Hinweis*: Benutzen Sie die Methode `value_counts` um die Anzahl der Kunden in jeder Kategorie zu berechnen. Sie können auch die Methode `sum` benutzen, um die Anzahl der Kunden in einer Kategorie zu berechnen."
   ]
  },
  {
   "cell_type": "code",
   "execution_count": 31,
   "metadata": {},
   "outputs": [],
   "source": [
    "# Wie viele Kunden sind untergewichtig?\n",
    "# a) mit .value_counts()\n",
    "\n",
    "# b) mit .sum()\n"
   ]
  },
  {
   "cell_type": "markdown",
   "metadata": {},
   "source": [
    "Erstellen Sie eine neue Spalte `bmi_category` in der Tabelle `customers`, die die Kategorie des BMI angibt (Untergewicht, Normalgewicht, Übergewicht, Adipositas).\n",
    "*Hinweis*: Sie können diese Variable mit der Funktion `pd.cut` erstellen."
   ]
  },
  {
   "cell_type": "code",
   "execution_count": 32,
   "metadata": {},
   "outputs": [],
   "source": [
    "# Erstellen Sie `bmi_category` hier\n"
   ]
  },
  {
   "cell_type": "markdown",
   "metadata": {},
   "source": [
    "Visualisieren Sie die Verteilung der Kategorien des BMI. *Hinweis*: Benutzen Sie die Funktion `sns.countplot` aus der Bibliothek `seaborn`."
   ]
  },
  {
   "cell_type": "code",
   "execution_count": 33,
   "metadata": {},
   "outputs": [],
   "source": [
    "# Erstellen Sie die Graphik hier\n"
   ]
  },
  {
   "cell_type": "markdown",
   "metadata": {},
   "source": [
    "Nun möchten Wir die Verteilung des BMI für Männer und Frauen vergleichen. Berechnen Sie den Mittelwert des BMI für Männer und Frauen. *Hinweis*: Sie können die Methode `groupby` benutzen, um die Mittelwerte für verschiedene Gruppen zu berechnen."
   ]
  },
  {
   "cell_type": "code",
   "execution_count": 34,
   "metadata": {},
   "outputs": [
    {
     "data": {
      "text/plain": [
       "ethnicity\n",
       "Black       41.733333\n",
       "Hispanic    36.288462\n",
       "Other       41.763158\n",
       "White       43.571620\n",
       "Name: age, dtype: float64"
      ]
     },
     "execution_count": 34,
     "metadata": {},
     "output_type": "execute_result"
    }
   ],
   "source": [
    "# Als Beispiel für die Benutzung von .groupby() werden hier die Mittelwerte des Alters für jede Ethnie berechnet\n",
    "\n",
    "customers.groupby(\"ethnicity\")[\"age\"].mean()"
   ]
  },
  {
   "cell_type": "code",
   "execution_count": 35,
   "metadata": {},
   "outputs": [],
   "source": [
    "# Berechnen Sie die Mittelwerte des BMI für Männer und Frauen.\n"
   ]
  },
  {
   "cell_type": "code",
   "execution_count": 36,
   "metadata": {},
   "outputs": [],
   "source": [
    "# Vergleichen Sie die Verteilungen des BMI für Männer und Frauen mit einem Boxplot.\n",
    "\n",
    "# Bevor wir die Boxplots erstellen, müssen wir die Variable \"male\" in eine kategorische Variable umwandeln. Die neue Variable nenne wir \"sex\"\n",
    "customers[\"sex\"] = pd.Categorical(customers[\"male\"], ordered=False)\n",
    "\n",
    "# Erstellen Sie die Boxplots hier\n"
   ]
  }
 ],
 "metadata": {
  "kernelspec": {
   "display_name": "econ2024",
   "language": "python",
   "name": "python3"
  },
  "language_info": {
   "codemirror_mode": {
    "name": "ipython",
    "version": 3
   },
   "file_extension": ".py",
   "mimetype": "text/x-python",
   "name": "python",
   "nbconvert_exporter": "python",
   "pygments_lexer": "ipython3",
   "version": "3.11.7"
  }
 },
 "nbformat": 4,
 "nbformat_minor": 2
}
