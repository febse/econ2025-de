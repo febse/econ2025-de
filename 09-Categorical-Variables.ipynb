{
  "cells": [
    {
      "cell_type": "markdown",
      "id": "da1b4d15",
      "metadata": {
        "id": "da1b4d15"
      },
      "source": [
        "# Kategoriale Variablen\n",
        "\n",
        "Open in Colab: [![Open in Colab](https://colab.research.google.com/assets/colab-badge.svg)](https://colab.research.google.com/github/febse/econ2025-de/blob/main/09-Categorical-Variables.ipynb)\n",
        "\n",
        "## Simpson's paradox\n",
        "\n",
        "Der Datensatz `berkley` enthält Informationen über Zulassungen an die University of California, Berkeley. Die Variablen sind:\n",
        "- `Major`: Studienrichtung (A, B, C, etc.)\n",
        "- `Gender`: Geschlecht (M, F)\n",
        "- `Admission`: Zulassung (Accepted, Rejected)\n",
        "- `is_rejected`: Eine Indikatorvariable, die angibt, ob eine Person abgelehnt wurde (1) oder nicht (0)\n"
      ]
    },
    {
      "cell_type": "code",
      "execution_count": null,
      "id": "XuVhFdOOhW3S",
      "metadata": {
        "colab": {
          "base_uri": "https://localhost:8080/",
          "height": 425
        },
        "id": "XuVhFdOOhW3S",
        "outputId": "2072dc31-3cd3-4f18-e5ac-26dc33c0e1fd",
        "vscode": {
          "languageId": "r"
        }
      },
      "outputs": [],
      "source": [
        "library(tidyverse)\n",
        "\n",
        "## Simpson's paradox (1)\n",
        "\n",
        "berkley <- read_csv(\n",
        "  \"https://waf.cs.illinois.edu/discovery/berkeley.csv\"\n",
        "  ) %>%\n",
        "  mutate(\n",
        "    is_rejected = ifelse(Admission == \"Accepted\", 0, 1),\n",
        "  )\n",
        "\n",
        "berkley %>% head()"
      ]
    },
    {
      "cell_type": "code",
      "execution_count": null,
      "id": "8QZiRDTwhzIz",
      "metadata": {
        "colab": {
          "base_uri": "https://localhost:8080/",
          "height": 161
        },
        "id": "8QZiRDTwhzIz",
        "outputId": "e3a19385-0c8e-48b5-e66e-7de801162933",
        "vscode": {
          "languageId": "r"
        }
      },
      "outputs": [],
      "source": [
        "berkley %>%\n",
        "  group_by(Gender) %>%\n",
        "    summarize(\n",
        "        n = n(),\n",
        "        n_rejected = sum(is_rejected),\n",
        "        p_rejected = round(mean(is_rejected), 2)\n",
        "    )"
      ]
    },
    {
      "cell_type": "code",
      "execution_count": null,
      "id": "K5q4QcRoh5WX",
      "metadata": {
        "colab": {
          "base_uri": "https://localhost:8080/",
          "height": 572
        },
        "id": "K5q4QcRoh5WX",
        "outputId": "2cb8e2c8-6cd7-4104-e2c3-9e28f4f61a58",
        "vscode": {
          "languageId": "r"
        }
      },
      "outputs": [],
      "source": [
        "admission_by_major_gender <- berkley %>%\n",
        "  group_by(Major, Gender) %>%\n",
        "    summarize(\n",
        "        n = n(),\n",
        "        n_rejected = sum(is_rejected),\n",
        "        p_rejected = round(mean(is_rejected), 2)\n",
        "    )\n",
        "admission_by_major_gender"
      ]
    },
    {
      "cell_type": "code",
      "execution_count": null,
      "id": "lQ1n7NnriFjt",
      "metadata": {
        "id": "lQ1n7NnriFjt",
        "vscode": {
          "languageId": "r"
        }
      },
      "outputs": [],
      "source": [
        "admission_by_major_gender %>%\n",
        "  ggplot(aes(x = Major, y = p_rejected, fill=Gender)) +\n",
        "    geom_bar(stat = \"identity\", position = \"dodge\") +\n",
        "    labs(\n",
        "      y = \"Admission rate\",\n",
        "      x = \"Major\"\n",
        "    ) +\n",
        "    theme(axis.text.x = element_text(angle = 45, hjust = 1))"
      ]
    },
    {
      "cell_type": "markdown",
      "id": "6C-aYAmjj1DE",
      "metadata": {
        "id": "6C-aYAmjj1DE"
      },
      "source": [
        "## Regression with Categorical Variables\n",
        "\n"
      ]
    },
    {
      "cell_type": "code",
      "execution_count": null,
      "id": "rcGOl14Dj56H",
      "metadata": {
        "colab": {
          "base_uri": "https://localhost:8080/",
          "height": 286
        },
        "id": "rcGOl14Dj56H",
        "outputId": "f1239bd8-bb7e-4b97-cedd-e0dbecca7ef5",
        "vscode": {
          "languageId": "r"
        }
      },
      "outputs": [],
      "source": [
        "berkley %>% head()"
      ]
    },
    {
      "cell_type": "code",
      "execution_count": null,
      "id": "8_dQOy0Uj8af",
      "metadata": {
        "colab": {
          "base_uri": "https://localhost:8080/",
          "height": 255
        },
        "id": "8_dQOy0Uj8af",
        "outputId": "1cd591f8-8bbc-450a-8f18-01774f7f1070",
        "vscode": {
          "languageId": "r"
        }
      },
      "outputs": [],
      "source": [
        "model_matrix <- model.matrix(lm(is_rejected ~ 0 + Gender, data = berkley))\n",
        "model_matrix %>% head()"
      ]
    },
    {
      "cell_type": "code",
      "execution_count": null,
      "id": "KR3u5j_AkJHF",
      "metadata": {
        "colab": {
          "base_uri": "https://localhost:8080/",
          "height": 286
        },
        "id": "KR3u5j_AkJHF",
        "outputId": "ec4a06a4-3a69-48cb-ae6f-06ace5c2d25b",
        "vscode": {
          "languageId": "r"
        }
      },
      "outputs": [],
      "source": [
        "berkey <- berkley %>%\n",
        "  bind_cols(model_matrix)\n",
        "berkey %>% head()"
      ]
    },
    {
      "cell_type": "markdown",
      "id": "518ddd92",
      "metadata": {},
      "source": [
        "Lassen Sie uns die Mittelwerte der Indikatorvariable für die Zulassung nach Geschlecht und Studienrichtung berechnen.\n",
        "\n",
        "Das Modell ist wie folgt:\n",
        "\n",
        "$$\n",
        "\\widehat{\\text{is\\_rejected}}_i = \\hat{\\beta}_0 + \\hat{\\beta}_{F} \\text{GenderF}_i + \\hat{\\beta}_{M} \\text{GenderM}_i  \n",
        "$$\n",
        "\n",
        "Eine alternative Art und Weise, das Modell zu schreiben, ist:\n",
        "\n",
        "$$\n",
        "\\widehat{\\text{is\\_rejected}}_i = \\hat{\\beta}_0 + \\hat{\\beta}_{\\text{Gender}[i]}\n",
        "$$\n"
      ]
    },
    {
      "cell_type": "code",
      "execution_count": null,
      "id": "Y6F33W4Uic7F",
      "metadata": {
        "colab": {
          "base_uri": "https://localhost:8080/",
          "height": 330
        },
        "id": "Y6F33W4Uic7F",
        "outputId": "d17efd23-d74e-4b07-fa03-9de89086ac16",
        "vscode": {
          "languageId": "r"
        }
      },
      "outputs": [],
      "source": [
        "lm(is_rejected ~ Gender, data = berkley) %>%\n",
        "  summary()"
      ]
    },
    {
      "cell_type": "code",
      "execution_count": null,
      "id": "1AftA9SwjNxq",
      "metadata": {
        "id": "1AftA9SwjNxq",
        "vscode": {
          "languageId": "r"
        }
      },
      "outputs": [],
      "source": []
    },
    {
      "cell_type": "markdown",
      "id": "F9tnsj-KjQQr",
      "metadata": {
        "id": "F9tnsj-KjQQr"
      },
      "source": [
        "## BIP pro Kopf und Staatsausgaben\n",
        "\n",
        "Der Datensatz `gdp2019` enthält die BIP pro Kopf in aktuellen Preisen für 142 Länder im Jahr 2019. Darüber hinaus zeigt die Variable `spending` die Staatsausgaben in diesen Ländern als Anteil (in Prozent) des BIP.\n",
        "\n",
        "-   `gdppc` (numeric): [BIP pro Kopf](https://www.imf.org/external/datamapper/NGDPDPC@WEO/OEMDC/ADVEC/WEOWORLD) in USD (aktuelle Preise)\n",
        "-   `spending` (numeric): [Staatsausgaben als Anteil des BIP](https://www.imf.org/external/datamapper/exp@FPP/USA/FRA/JPN/GBR/SWE/ESP/ITA/ZAF/IND)."
      ]
    },
    {
      "cell_type": "code",
      "execution_count": null,
      "id": "c8NthniFjgs6",
      "metadata": {
        "id": "c8NthniFjgs6",
        "vscode": {
          "languageId": "r"
        }
      },
      "outputs": [],
      "source": [
        "gdp2019 <- read_csv(\n",
        "  \"https://raw.githubusercontent.com/feb-sofia/econometrics-2023/main/data/gdpgov2019.csv\"\n",
        "  ) %>%\n",
        "  filter(!is.na(spending))\n",
        "\n",
        "gdp2019 %>% head()"
      ]
    },
    {
      "cell_type": "markdown",
      "id": "cXvb442tjoKZ",
      "metadata": {
        "id": "cXvb442tjoKZ"
      },
      "source": [
        "1.  Zuerst möchten wir uns die Daten anschauen\n",
        "\n",
        "$$\n",
        "\\text{gdppc}_i = \\beta_0 + \\beta_1 \\text{spending}_i + e_i, \\quad e_i \\sim N(0, \\sigma^2)\n",
        "$$\n"
      ]
    },
    {
      "cell_type": "code",
      "execution_count": null,
      "id": "l_E1dvzBjrPN",
      "metadata": {
        "colab": {
          "base_uri": "https://localhost:8080/",
          "height": 593
        },
        "id": "l_E1dvzBjrPN",
        "outputId": "54a4d9cb-d5bc-45aa-97ba-430b0812d249",
        "vscode": {
          "languageId": "r"
        }
      },
      "outputs": [],
      "source": [
        "gdp2019 %>%\n",
        "  ggplot(aes(x = spending, y = gdppc)) +\n",
        "  geom_point() +\n",
        "  geom_smooth(method = \"lm\") +\n",
        "  labs(\n",
        "    y = \"GDP per capita\",\n",
        "    x = \"Gov. spending\"\n",
        "  ) +\n",
        "  lims(\n",
        "    x = c(0, 70),\n",
        "    y = c(0, 90000)\n",
        "  )"
      ]
    },
    {
      "cell_type": "code",
      "execution_count": null,
      "id": "l-ZO9rl1jv6T",
      "metadata": {
        "id": "l-ZO9rl1jv6T",
        "vscode": {
          "languageId": "r"
        }
      },
      "outputs": [],
      "source": [
        "# Estimate the model\n"
      ]
    },
    {
      "cell_type": "markdown",
      "id": "H4fh2bP-kyJz",
      "metadata": {
        "id": "H4fh2bP-kyJz"
      },
      "source": [
        "2.  Nun möchten wir die Daten in Kategorien einteilen. Wir verwenden die folgende Einteilung:\n",
        "\n",
        "-   Low: if $\\text{gdppc} \\leq 1025$\n",
        "-   Medium-low: if $1025 < \\text{gdppc} \\leq 3995$\n",
        "-   Medium-high: if $3995 < \\text{gdppc} \\leq 12375$\n",
        "-   High: if $12375 < \\text{gdppc} \\leq 30000$\n",
        "-   Very high: if $\\text{gdppc} > 30000$"
      ]
    },
    {
      "cell_type": "code",
      "execution_count": null,
      "id": "BfxYQ_mlkxBk",
      "metadata": {
        "colab": {
          "base_uri": "https://localhost:8080/",
          "height": 69
        },
        "id": "BfxYQ_mlkxBk",
        "outputId": "2495ff5e-6e8d-4241-a5c4-e190fc259a14",
        "vscode": {
          "languageId": "r"
        }
      },
      "outputs": [],
      "source": [
        "gdp2019 <- gdp2019 %>%\n",
        "  mutate(\n",
        "    gdppc_gr = cut(\n",
        "      gdppc,\n",
        "      breaks = c(0, 1025, 3995, 12375, 30000, Inf),\n",
        "      labels = c(\"Low\", \"Medium-low\", \"Medium-high\", \"High\", \"Very high\"))\n",
        "  )\n",
        "table(gdp2019$gdppc_gr)"
      ]
    },
    {
      "cell_type": "markdown",
      "id": "AYRyUJ-Ik4tP",
      "metadata": {
        "id": "AYRyUJ-Ik4tP"
      },
      "source": [
        "1. Wir schätzen zuerst ein lineares Modell mit den Kategorien als Dummy-Variablen:\n",
        "\n",
        "$$\n",
        "\\text{gdppc}_i = \\beta_0 + \\beta_{\\text{gdppc\\_gr}[i]} + e_i, e_i \\sim N(0, \\sigma^2)\n",
        "$$\n",
        "\n",
        "Dabei ist:\n",
        "\n",
        "$$\n",
        "\\beta_{\\text{gdppc\\_gr}[i]} = \\begin{cases}\n",
        "\\beta_{\\text{low}} & \\text{falls } \\text{gdppc\\_gr}_i = \\text{Low} \\\\\n",
        "\\beta_{\\text{medium-low}} & \\text{falls } \\text{gdppc\\_gr}_i = \\text{Medium-low} \\\\\n",
        "\\beta_{\\text{medium-high}} & \\text{falls } \\text{gdppc\\_gr}_i = \\text{Medium-high} \\\\\n",
        "\\beta_{\\text{high}} & \\text{falls } \\text{gdppc\\_gr}_i = \\text{High} \\\\\n",
        "\\beta_{\\text{very-high}} & \\text{falls } \\text{gdppc\\_gr}_i = \\text{Very high}\n",
        "\\end{cases}\n",
        "$$\n",
        "\n",
        "Eine andere Art und Weise, das Modell aufzuschreiben, ist:\n",
        "\n",
        "$$\n",
        "\\text{gdppc}_i = \\beta_0 + \\beta_1 \\text{low}_i + \\beta_2 \\text{medium-low}_i + \\beta_3 \\text{medium-high}_i + \\beta_4 \\text{high}_i + \\beta_5 \\text{very-high}_i + e_i, e_i \\sim N(0, \\sigma^2)\n",
        "$$\n",
        "\n"
      ]
    },
    {
      "cell_type": "code",
      "execution_count": null,
      "id": "4gBY5OU7k5r2",
      "metadata": {
        "id": "4gBY5OU7k5r2",
        "vscode": {
          "languageId": "r"
        }
      },
      "outputs": [],
      "source": []
    },
    {
      "cell_type": "code",
      "execution_count": null,
      "id": "PgtmQaLclK6B",
      "metadata": {
        "colab": {
          "base_uri": "https://localhost:8080/",
          "height": 593
        },
        "id": "PgtmQaLclK6B",
        "outputId": "60d0ab7f-810d-47bf-d0e6-e4720df3efac",
        "vscode": {
          "languageId": "r"
        }
      },
      "outputs": [],
      "source": [
        "gdp2019 %>%\n",
        "  ggplot(aes(x = spending, y = gdppc)) +\n",
        "  geom_point(aes( color = gdppc_gr)) +\n",
        "  geom_smooth(method = \"lm\") +\n",
        "  # geom_abline(\n",
        "  #   intercept = c(-144.39, 1308.32, 5835.94, 18460.21, 51920.69),\n",
        "  #   slope = 44.80,\n",
        "  #   alpha = 0.5\n",
        "  # ) +\n",
        "  lims(\n",
        "    x = c(0, 80),\n",
        "    y = c(0, 90000)\n",
        "  )"
      ]
    },
    {
      "cell_type": "markdown",
      "id": "c4fd06d3",
      "metadata": {},
      "source": [
        "## F-Test\n",
        "\n",
        "Very often we want test the hypothesis that a certain subset of the coefficients are simultaneously equal to zero. This is called a joint hypothesis.\n",
        "\n",
        "In our example we could test the hypothesis that the coefficients of `Med Low`, `Med High`, `High` and `Very High` are all equal to zero. This is equivalent to testing if the average of `gdppc` is the same in all groups.\n",
        "\n",
        "The test is called an F-test and is based on the ratio of the sum of squared errors of the restricted model and the sum of squared errors of the unrestricted model.\n",
        "\n",
        "The restricted model is the one where the coefficients of `Med Low`, `Med High`, `High` and `Very High` are all equal to zero.\n",
        "\n",
        "The unrestricted model is the one where all coefficients are estimated.\n",
        "\n",
        "The F-test is based on the following statistic:\n",
        "\n",
        "$$\n",
        "F = \\frac{(RSS_{\\text{restricted}} - RSS_{\\text{unrestricted}}) / (p_{\\text{restricted}} - p_{\\text{unrestricted}})}{RSS_{\\text{unrestricted}} / (n - p_{\\text{unrestricted}})}\n",
        "$$\n",
        "\n",
        "$$\n",
        "F = \\frac{(RSS_{\\text{restricted}} - RSS_{\\text{unrestricted}})}{RSS_{\\text{unrestricted}}}\\frac{(n - p_{\\text{unrestricted}})}{(p_{\\text{restricted}} - p_{\\text{unrestricted}})}\n",
        "$$\n",
        "\n",
        "where $RSS$ is the residual sum of squares, $p$ is the number of parameters in the model and $n$ is the number of observations."
      ]
    },
    {
      "cell_type": "markdown",
      "id": "asEEyDwbmeMk",
      "metadata": {
        "id": "asEEyDwbmeMk"
      },
      "source": [
        "## Interaction Effects\n"
      ]
    },
    {
      "cell_type": "code",
      "execution_count": null,
      "id": "uxpY6quJmdv4",
      "metadata": {
        "colab": {
          "base_uri": "https://localhost:8080/",
          "height": 286
        },
        "id": "uxpY6quJmdv4",
        "outputId": "605fefab-0242-4661-ce4e-45f462711b23",
        "vscode": {
          "languageId": "r"
        }
      },
      "outputs": [],
      "source": [
        "# Load the data\n",
        "stu <- read.csv(\"https://raw.githubusercontent.com/febse/data/main/econ/drinking.csv\") %>%\n",
        "  mutate(\n",
        "    sex = ifelse(male == 1, \"Male\", \"Female\")\n",
        "  )\n",
        "\n",
        "# Print the first few rows\n",
        "stu %>% head()"
      ]
    },
    {
      "cell_type": "code",
      "execution_count": null,
      "id": "Rt_HT2RJmoBl",
      "metadata": {
        "colab": {
          "base_uri": "https://localhost:8080/",
          "height": 559
        },
        "id": "Rt_HT2RJmoBl",
        "outputId": "8d45711e-c074-4075-95ef-b661b97eb123",
        "vscode": {
          "languageId": "r"
        }
      },
      "outputs": [],
      "source": [
        "stu %>%\n",
        "  ggplot(aes(x=gpa, y=drink)) +\n",
        "    geom_point() +\n",
        "    geom_smooth(method=lm)"
      ]
    },
    {
      "cell_type": "markdown",
      "id": "Cn5tCNEvmsuZ",
      "metadata": {
        "id": "Cn5tCNEvmsuZ"
      },
      "source": [
        "Estimate and iterpret the results of the following models:\n",
        "\n",
        "- $\\text{drink}_i = \\beta_0 + \\beta_1\\text{gpa}_i + e_i$\n",
        "- $\\text{drink}_i = \\beta_0 + \\beta_1 \\text{sexMale}_i + e_i$\n",
        "- $\\text{drink}_i =\\beta_0 + \\beta_1 \\text{gpa}_i + \\beta_2 \\text{sexMale}_i + e_i$\n",
        "- $\\text{drink}_i = \\beta_0 + \\beta_1 \\text{gpa}_i + \\beta_2 \\text{sexMale}_i +\n",
        "\\beta_3 \\text{gpa}_i \\cdot \\text{sexMale}_i$"
      ]
    },
    {
      "cell_type": "code",
      "execution_count": null,
      "id": "jK3tblSbmriE",
      "metadata": {
        "colab": {
          "base_uri": "https://localhost:8080/",
          "height": 139
        },
        "id": "jK3tblSbmriE",
        "outputId": "aa0089ae-e813-4ede-cffd-15671c3e2efa",
        "vscode": {
          "languageId": "r"
        }
      },
      "outputs": [],
      "source": []
    },
    {
      "cell_type": "markdown",
      "id": "euziNH41n1s5",
      "metadata": {
        "id": "euziNH41n1s5"
      },
      "source": [
        "## Polynomial regression\n",
        "\n",
        "- Sample 100 observations from the following model. Assume that $x_i$ is uniformly distributed between -4 and 3.\n",
        "\n",
        "$$\n",
        "y_i = 2 + x_i + x^2 + e_i, e_i \\sim N(0, 1)\n",
        "$$\n",
        "\n",
        "- Fit a linear regression model to the data, plot the data in a scatterplot and add the estimated regression line.\n",
        "- Calculate the residuals and plot them against the fitted values. What do you observe?\n",
        "\n"
      ]
    },
    {
      "cell_type": "code",
      "execution_count": null,
      "id": "5c3ec545",
      "metadata": {
        "vscode": {
          "languageId": "r"
        }
      },
      "outputs": [],
      "source": [
        "#\n",
        "#\n",
        "#\n",
        "#\n",
        "#\n",
        "#\n",
        "#\n",
        "#\n",
        "#\n",
        "#\n",
        "#\n",
        "#\n",
        "#\n",
        "#\n",
        "#\n",
        "#\n",
        "#\n",
        "#"
      ]
    },
    {
      "cell_type": "markdown",
      "id": "c1a68003",
      "metadata": {},
      "source": []
    },
    {
      "cell_type": "code",
      "execution_count": null,
      "id": "CVeEslL5n8Xg",
      "metadata": {
        "id": "CVeEslL5n8Xg",
        "vscode": {
          "languageId": "r"
        }
      },
      "outputs": [],
      "source": [
        "## Create the simulated sample\n",
        "sim_n <- 100\n",
        "\n",
        "poly_dt <- tibble(\n",
        "  x = runif(n = sim_n, min = -4, max = 3),\n",
        "  y = 2 +  x +  x^2 + rnorm(n = sim_n, mean = 0, sd = 1)\n",
        ")\n",
        "\n",
        "poly_dt %>%\n",
        "  ggplot(aes(x = x, y = y)) +\n",
        "  geom_point()\n"
      ]
    },
    {
      "cell_type": "markdown",
      "id": "DfAr0DbHoDRQ",
      "metadata": {
        "id": "DfAr0DbHoDRQ"
      },
      "source": [
        "\n",
        "2.  Estimate a linear model for `x` and `y`\n",
        "\n",
        "$$\n",
        "y_i = \\beta_0 + \\beta_1 x_i, e_i \\sim N(0, \\sigma^2)\n",
        "$$\n"
      ]
    },
    {
      "cell_type": "code",
      "execution_count": null,
      "id": "jpxnyPzmoGnB",
      "metadata": {
        "id": "jpxnyPzmoGnB",
        "vscode": {
          "languageId": "r"
        }
      },
      "outputs": [],
      "source": []
    },
    {
      "cell_type": "code",
      "execution_count": null,
      "id": "2yNgb-H_oHU-",
      "metadata": {
        "id": "2yNgb-H_oHU-",
        "vscode": {
          "languageId": "r"
        }
      },
      "outputs": [],
      "source": [
        "# fit1_pred <- predict(\n",
        "#   fit1,\n",
        "#   interval = \"confidence\"\n",
        "#   ) %>%\n",
        "#   as_tibble() %>%\n",
        "#   bind_cols(poly_dt) %>%\n",
        "#   mutate(\n",
        "#     res = y - fit\n",
        "#   )"
      ]
    },
    {
      "cell_type": "code",
      "execution_count": null,
      "id": "js0aQ_UooJut",
      "metadata": {
        "id": "js0aQ_UooJut",
        "vscode": {
          "languageId": "r"
        }
      },
      "outputs": [],
      "source": [
        "# fit1_pred %>%\n",
        "#   ggplot(aes(x = fit, y = res)) +\n",
        "#   geom_point() +\n",
        "#   geom_hline(yintercept = 0, alpha = 0.5, lty = 2) +\n",
        "#   labs(\n",
        "#     x = \"Predicted\",\n",
        "#     y = \"Residual\"\n",
        "#   )"
      ]
    },
    {
      "cell_type": "markdown",
      "id": "bY1VHmR8oNkl",
      "metadata": {
        "id": "bY1VHmR8oNkl"
      },
      "source": [
        "\n",
        "3.  Add a quadratic term to the linear model and estimate it\n",
        "\n",
        "$$\n",
        "y_i = \\beta_0 + \\beta_1 x_i + \\beta_2 x^2_i + e_i, e_i \\sim N(0, \\sigma^2)\n",
        "$$\n"
      ]
    },
    {
      "cell_type": "code",
      "execution_count": null,
      "id": "QA5lvh77oQO3",
      "metadata": {
        "id": "QA5lvh77oQO3",
        "vscode": {
          "languageId": "r"
        }
      },
      "outputs": [],
      "source": [
        "# fit2_pred <- predict(fit2, interval = \"confidence\") %>%\n",
        "#   as_tibble() %>%\n",
        "#   bind_cols(poly_dt) %>%\n",
        "#   mutate(\n",
        "#     res = y - fit\n",
        "#   )"
      ]
    },
    {
      "cell_type": "code",
      "execution_count": null,
      "id": "_GnJIskroSU4",
      "metadata": {
        "id": "_GnJIskroSU4",
        "vscode": {
          "languageId": "r"
        }
      },
      "outputs": [],
      "source": [
        "# fit2_pred %>%\n",
        "#   ggplot(aes(x = x, y = y)) +\n",
        "#   geom_point() +\n",
        "#   geom_line(\n",
        "#     aes(y = fit),\n",
        "#     color = \"steelblue2\"\n",
        "#   ) +\n",
        "#   geom_ribbon(\n",
        "#     aes(ymin = lwr, ymax = upr),\n",
        "#     alpha = 0.2,\n",
        "#     fill = \"steelblue2\"\n",
        "#   )"
      ]
    },
    {
      "cell_type": "code",
      "execution_count": null,
      "id": "t-E_p2M6oWSb",
      "metadata": {
        "id": "t-E_p2M6oWSb",
        "vscode": {
          "languageId": "r"
        }
      },
      "outputs": [],
      "source": [
        "# fit2_pred %>%\n",
        "#   ggplot(aes(x = fit, y = res)) +\n",
        "#   geom_point() +\n",
        "#   geom_hline(yintercept = 0, alpha = 0.5, lty = 2) +\n",
        "#   labs(\n",
        "#     x = \"Predicted\",\n",
        "#     y = \"Residual\"\n",
        "#   )"
      ]
    },
    {
      "cell_type": "markdown",
      "id": "J3QcfxGDobAB",
      "metadata": {
        "id": "J3QcfxGDobAB"
      },
      "source": [
        "4.  Add the third and fourth degree polynomial terms to the model and estimate it\n",
        "\n",
        "$$\n",
        "y_i = \\beta_0 + \\beta_1 x_i + \\beta_2 x^2_i + \\beta_3 x^3_i + \\beta_4 x^4_i + e_i, e_i \\sim N(0, \\sigma^2)\n",
        "$$"
      ]
    },
    {
      "cell_type": "code",
      "execution_count": null,
      "id": "kOyid2_6oabS",
      "metadata": {
        "id": "kOyid2_6oabS",
        "vscode": {
          "languageId": "r"
        }
      },
      "outputs": [],
      "source": []
    },
    {
      "cell_type": "code",
      "execution_count": null,
      "id": "k90gi_QCoeMM",
      "metadata": {
        "id": "k90gi_QCoeMM",
        "vscode": {
          "languageId": "r"
        }
      },
      "outputs": [],
      "source": [
        "# fit3_pred <- predict(fit3, interval = \"confidence\") %>%\n",
        "#   as_tibble() %>%\n",
        "#   bind_cols(poly_dt) %>%\n",
        "#   mutate(\n",
        "#     res = y - fit\n",
        "#   )"
      ]
    },
    {
      "cell_type": "code",
      "execution_count": null,
      "id": "zox17p_mofzI",
      "metadata": {
        "id": "zox17p_mofzI",
        "vscode": {
          "languageId": "r"
        }
      },
      "outputs": [],
      "source": [
        "# fit3_pred %>%\n",
        "#   ggplot(aes(x = x, y = y)) +\n",
        "#   geom_point() +\n",
        "#   geom_line(\n",
        "#     aes(y = fit),\n",
        "#     color = \"steelblue2\"\n",
        "#   ) +\n",
        "#   geom_ribbon(\n",
        "#     aes(ymin = lwr, ymax = upr),\n",
        "#     alpha = 0.2,\n",
        "#     fill = \"steelblue2\"\n",
        "#   )"
      ]
    },
    {
      "cell_type": "code",
      "execution_count": null,
      "id": "wM2MxfVmojp7",
      "metadata": {
        "id": "wM2MxfVmojp7",
        "vscode": {
          "languageId": "r"
        }
      },
      "outputs": [],
      "source": [
        "# fit3_pred %>%\n",
        "#   ggplot(aes(x = fit, y = res)) +\n",
        "#   geom_point() +\n",
        "#   geom_hline(yintercept = 0, alpha = 0.5, lty = 2) +\n",
        "#   labs(\n",
        "#     x = \"Predicted\",\n",
        "#     y = \"Residual\"\n",
        "#   )"
      ]
    },
    {
      "cell_type": "markdown",
      "id": "nZfqK9PXonGg",
      "metadata": {
        "id": "nZfqK9PXonGg"
      },
      "source": [
        "## Model choice\n",
        "\n",
        "1.  $R^2$\n",
        "\n",
        "$$\n",
        "R^2 = 1 - \\frac{RSS}{TSS} \\\\\n",
        "RSS = \\sum_{i = 1}^{n}(y_i - \\hat{y}_i)^2 \\\\\n",
        "TSS = \\sum_{i = 1}^{n}(y_i - \\bar{y})^2\n",
        "$$\n",
        "\n",
        "Compute $R^2$ for the three models. Which model fits the data best according to it?\n"
      ]
    },
    {
      "cell_type": "code",
      "execution_count": null,
      "id": "fDfcNUdbos3J",
      "metadata": {
        "id": "fDfcNUdbos3J",
        "vscode": {
          "languageId": "r"
        }
      },
      "outputs": [],
      "source": [
        "sim_noconst <- tibble(\n",
        "  y = 2 + rnorm(n = 100, mean = 0, sd = 1),\n",
        "  x = runif(n = 100)\n",
        ")\n",
        "\n",
        "sim_noconst %>%\n",
        "  ggplot(aes(x = x, y = y)) +\n",
        "  geom_point()"
      ]
    },
    {
      "cell_type": "markdown",
      "id": "vd509Zbkoxti",
      "metadata": {
        "id": "vd509Zbkoxti"
      },
      "source": [
        "2.  Adjusted $R^2$\n",
        "\n",
        "$$\n",
        "R^2_{ADJ} = 1 - \\frac{n - 1}{n - p - 1} \\frac{RSS}{TSS}\n",
        "$$\n",
        "\n",
        "3.  Information Criteria\n",
        "\n",
        "Compute the Akaike information criterion (AIC) for the three models and choose the best one.\n",
        "\n",
        "$$\n",
        "\\text{AIC} = n \\log\\left(\\frac{RSS}{n}\\right) + 2p + n + n \\log(2\\pi).\n",
        "$$"
      ]
    },
    {
      "cell_type": "code",
      "execution_count": null,
      "id": "mLI6aJeZo1yJ",
      "metadata": {
        "id": "mLI6aJeZo1yJ",
        "vscode": {
          "languageId": "r"
        }
      },
      "outputs": [],
      "source": [
        "AIC(fit1)\n",
        "AIC(fit2)\n",
        "AIC(fit3)"
      ]
    },
    {
      "cell_type": "code",
      "execution_count": null,
      "id": "RHFOJkd5o44T",
      "metadata": {
        "id": "RHFOJkd5o44T",
        "vscode": {
          "languageId": "r"
        }
      },
      "outputs": [],
      "source": [
        "smpl <- sample(1:100, 20)\n",
        "poly_dt_estim <- poly_dt[smpl, ]\n",
        "poly_dt_test <- poly_dt[-smpl, ]\n",
        "\n",
        "fit2_estim <- lm(y ~ poly(x, 4), data = poly_dt_estim)\n",
        "fit5_test <- lm(y ~ poly(x, 4), data = poly_dt_test)\n",
        "\n",
        "pred2 <- predict(fit2_estim, newdata = poly_dt_estim)\n",
        "pred5 <- predict(fit2_estim, newdata = poly_dt_estim)"
      ]
    }
  ],
  "metadata": {
    "colab": {
      "provenance": []
    },
    "kernelspec": {
      "display_name": "R",
      "name": "ir"
    },
    "language_info": {
      "name": "R"
    }
  },
  "nbformat": 4,
  "nbformat_minor": 5
}
