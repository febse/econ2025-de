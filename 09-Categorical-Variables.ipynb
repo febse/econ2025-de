{
  "cells": [
    {
      "cell_type": "markdown",
      "metadata": {
        "id": "view-in-github",
        "colab_type": "text"
      },
      "source": [
        "<a href=\"https://colab.research.google.com/github/febse/econ2025-de/blob/main/09-Categorical-Variables.ipynb\" target=\"_parent\"><img src=\"https://colab.research.google.com/assets/colab-badge.svg\" alt=\"Open In Colab\"/></a>"
      ]
    },
    {
      "cell_type": "markdown",
      "id": "da1b4d15",
      "metadata": {
        "id": "da1b4d15"
      },
      "source": [
        "# Kategoriale Variablen\n",
        "\n",
        "Open in Colab: [![Open in Colab](https://colab.research.google.com/assets/colab-badge.svg)](https://colab.research.google.com/github/febse/econ2025-de/blob/main/09-Categorical-Variables.ipynb)\n",
        "\n",
        "## Simpson's paradox\n",
        "\n",
        "Der Datensatz `berkley` enthält Informationen über Zulassungen an die University of California, Berkeley. Die Variablen sind:\n",
        "- `Major`: Studienrichtung (A, B, C, etc.)\n",
        "- `Gender`: Geschlecht (M, F)\n",
        "- `Admission`: Zulassung (Accepted, Rejected)\n",
        "- `is_rejected`: Eine Indikatorvariable, die angibt, ob eine Person abgelehnt wurde (1) oder nicht (0)\n"
      ]
    },
    {
      "cell_type": "code",
      "execution_count": 22,
      "id": "XuVhFdOOhW3S",
      "metadata": {
        "colab": {
          "base_uri": "https://localhost:8080/",
          "height": 425
        },
        "id": "XuVhFdOOhW3S",
        "outputId": "457db952-65ea-42e4-bd43-1ec4af81ed22"
      },
      "outputs": [
        {
          "output_type": "stream",
          "name": "stderr",
          "text": [
            "\u001b[1mRows: \u001b[22m\u001b[34m12763\u001b[39m \u001b[1mColumns: \u001b[22m\u001b[34m4\u001b[39m\n",
            "\u001b[36m──\u001b[39m \u001b[1mColumn specification\u001b[22m \u001b[36m────────────────────────────────────────────────────────\u001b[39m\n",
            "\u001b[1mDelimiter:\u001b[22m \",\"\n",
            "\u001b[31mchr\u001b[39m (3): Major, Gender, Admission\n",
            "\u001b[32mdbl\u001b[39m (1): Year\n",
            "\n",
            "\u001b[36mℹ\u001b[39m Use `spec()` to retrieve the full column specification for this data.\n",
            "\u001b[36mℹ\u001b[39m Specify the column types or set `show_col_types = FALSE` to quiet this message.\n"
          ]
        },
        {
          "output_type": "display_data",
          "data": {
            "text/html": [
              "<table class=\"dataframe\">\n",
              "<caption>A tibble: 6 × 5</caption>\n",
              "<thead>\n",
              "\t<tr><th scope=col>Year</th><th scope=col>Major</th><th scope=col>Gender</th><th scope=col>Admission</th><th scope=col>is_rejected</th></tr>\n",
              "\t<tr><th scope=col>&lt;dbl&gt;</th><th scope=col>&lt;chr&gt;</th><th scope=col>&lt;chr&gt;</th><th scope=col>&lt;chr&gt;</th><th scope=col>&lt;dbl&gt;</th></tr>\n",
              "</thead>\n",
              "<tbody>\n",
              "\t<tr><td>1973</td><td>C    </td><td>F</td><td>Rejected</td><td>1</td></tr>\n",
              "\t<tr><td>1973</td><td>B    </td><td>M</td><td>Accepted</td><td>0</td></tr>\n",
              "\t<tr><td>1973</td><td>Other</td><td>F</td><td>Accepted</td><td>0</td></tr>\n",
              "\t<tr><td>1973</td><td>Other</td><td>M</td><td>Accepted</td><td>0</td></tr>\n",
              "\t<tr><td>1973</td><td>Other</td><td>M</td><td>Rejected</td><td>1</td></tr>\n",
              "\t<tr><td>1973</td><td>Other</td><td>M</td><td>Rejected</td><td>1</td></tr>\n",
              "</tbody>\n",
              "</table>\n"
            ],
            "text/markdown": "\nA tibble: 6 × 5\n\n| Year &lt;dbl&gt; | Major &lt;chr&gt; | Gender &lt;chr&gt; | Admission &lt;chr&gt; | is_rejected &lt;dbl&gt; |\n|---|---|---|---|---|\n| 1973 | C     | F | Rejected | 1 |\n| 1973 | B     | M | Accepted | 0 |\n| 1973 | Other | F | Accepted | 0 |\n| 1973 | Other | M | Accepted | 0 |\n| 1973 | Other | M | Rejected | 1 |\n| 1973 | Other | M | Rejected | 1 |\n\n",
            "text/latex": "A tibble: 6 × 5\n\\begin{tabular}{lllll}\n Year & Major & Gender & Admission & is\\_rejected\\\\\n <dbl> & <chr> & <chr> & <chr> & <dbl>\\\\\n\\hline\n\t 1973 & C     & F & Rejected & 1\\\\\n\t 1973 & B     & M & Accepted & 0\\\\\n\t 1973 & Other & F & Accepted & 0\\\\\n\t 1973 & Other & M & Accepted & 0\\\\\n\t 1973 & Other & M & Rejected & 1\\\\\n\t 1973 & Other & M & Rejected & 1\\\\\n\\end{tabular}\n",
            "text/plain": [
              "  Year Major Gender Admission is_rejected\n",
              "1 1973 C     F      Rejected  1          \n",
              "2 1973 B     M      Accepted  0          \n",
              "3 1973 Other F      Accepted  0          \n",
              "4 1973 Other M      Accepted  0          \n",
              "5 1973 Other M      Rejected  1          \n",
              "6 1973 Other M      Rejected  1          "
            ]
          },
          "metadata": {}
        }
      ],
      "source": [
        "library(tidyverse)\n",
        "\n",
        "## Simpson's paradox (1)\n",
        "\n",
        "berkley <- read_csv(\n",
        "  \"https://waf.cs.illinois.edu/discovery/berkeley.csv\"\n",
        "  ) %>%\n",
        "  mutate(\n",
        "    is_rejected = ifelse(Admission == \"Accepted\", 0, 1),\n",
        "  )\n",
        "\n",
        "berkley %>% head()"
      ]
    },
    {
      "cell_type": "code",
      "execution_count": 23,
      "id": "8QZiRDTwhzIz",
      "metadata": {
        "colab": {
          "base_uri": "https://localhost:8080/",
          "height": 161
        },
        "id": "8QZiRDTwhzIz",
        "outputId": "eae0c3d4-f436-4485-fc48-544ec05ca776"
      },
      "outputs": [
        {
          "output_type": "display_data",
          "data": {
            "text/html": [
              "<table class=\"dataframe\">\n",
              "<caption>A tibble: 2 × 4</caption>\n",
              "<thead>\n",
              "\t<tr><th scope=col>Gender</th><th scope=col>n</th><th scope=col>n_rejected</th><th scope=col>p_rejected</th></tr>\n",
              "\t<tr><th scope=col>&lt;chr&gt;</th><th scope=col>&lt;int&gt;</th><th scope=col>&lt;dbl&gt;</th><th scope=col>&lt;dbl&gt;</th></tr>\n",
              "</thead>\n",
              "<tbody>\n",
              "\t<tr><td>F</td><td>4321</td><td>2827</td><td>0.65</td></tr>\n",
              "\t<tr><td>M</td><td>8442</td><td>4704</td><td>0.56</td></tr>\n",
              "</tbody>\n",
              "</table>\n"
            ],
            "text/markdown": "\nA tibble: 2 × 4\n\n| Gender &lt;chr&gt; | n &lt;int&gt; | n_rejected &lt;dbl&gt; | p_rejected &lt;dbl&gt; |\n|---|---|---|---|\n| F | 4321 | 2827 | 0.65 |\n| M | 8442 | 4704 | 0.56 |\n\n",
            "text/latex": "A tibble: 2 × 4\n\\begin{tabular}{llll}\n Gender & n & n\\_rejected & p\\_rejected\\\\\n <chr> & <int> & <dbl> & <dbl>\\\\\n\\hline\n\t F & 4321 & 2827 & 0.65\\\\\n\t M & 8442 & 4704 & 0.56\\\\\n\\end{tabular}\n",
            "text/plain": [
              "  Gender n    n_rejected p_rejected\n",
              "1 F      4321 2827       0.65      \n",
              "2 M      8442 4704       0.56      "
            ]
          },
          "metadata": {}
        }
      ],
      "source": [
        "berkley %>%\n",
        "  group_by(Gender) %>%\n",
        "    summarize(\n",
        "        n = n(),\n",
        "        n_rejected = sum(is_rejected),\n",
        "        p_rejected = round(mean(is_rejected), 2)\n",
        "    )"
      ]
    },
    {
      "cell_type": "code",
      "execution_count": 24,
      "id": "K5q4QcRoh5WX",
      "metadata": {
        "colab": {
          "base_uri": "https://localhost:8080/",
          "height": 572
        },
        "id": "K5q4QcRoh5WX",
        "outputId": "1b803215-adec-4667-fdbe-91a16b832d7e"
      },
      "outputs": [
        {
          "output_type": "stream",
          "name": "stderr",
          "text": [
            "\u001b[1m\u001b[22m`summarise()` has grouped output by 'Major'. You can override using the\n",
            "`.groups` argument.\n"
          ]
        },
        {
          "output_type": "display_data",
          "data": {
            "text/html": [
              "<table class=\"dataframe\">\n",
              "<caption>A grouped_df: 14 × 5</caption>\n",
              "<thead>\n",
              "\t<tr><th scope=col>Major</th><th scope=col>Gender</th><th scope=col>n</th><th scope=col>n_rejected</th><th scope=col>p_rejected</th></tr>\n",
              "\t<tr><th scope=col>&lt;chr&gt;</th><th scope=col>&lt;chr&gt;</th><th scope=col>&lt;int&gt;</th><th scope=col>&lt;dbl&gt;</th><th scope=col>&lt;dbl&gt;</th></tr>\n",
              "</thead>\n",
              "<tbody>\n",
              "\t<tr><td>A    </td><td>F</td><td> 108</td><td>  19</td><td>0.18</td></tr>\n",
              "\t<tr><td>A    </td><td>M</td><td>1138</td><td> 313</td><td>0.28</td></tr>\n",
              "\t<tr><td>B    </td><td>F</td><td>  25</td><td>   8</td><td>0.32</td></tr>\n",
              "\t<tr><td>B    </td><td>M</td><td> 560</td><td> 207</td><td>0.37</td></tr>\n",
              "\t<tr><td>C    </td><td>F</td><td> 593</td><td> 392</td><td>0.66</td></tr>\n",
              "\t<tr><td>C    </td><td>M</td><td> 325</td><td> 205</td><td>0.63</td></tr>\n",
              "\t<tr><td>D    </td><td>F</td><td> 375</td><td> 244</td><td>0.65</td></tr>\n",
              "\t<tr><td>D    </td><td>M</td><td> 417</td><td> 279</td><td>0.67</td></tr>\n",
              "\t<tr><td>E    </td><td>F</td><td> 393</td><td> 299</td><td>0.76</td></tr>\n",
              "\t<tr><td>E    </td><td>M</td><td> 191</td><td> 138</td><td>0.72</td></tr>\n",
              "\t<tr><td>F    </td><td>F</td><td> 341</td><td> 316</td><td>0.93</td></tr>\n",
              "\t<tr><td>F    </td><td>M</td><td> 373</td><td> 351</td><td>0.94</td></tr>\n",
              "\t<tr><td>Other</td><td>F</td><td>2486</td><td>1549</td><td>0.62</td></tr>\n",
              "\t<tr><td>Other</td><td>M</td><td>5438</td><td>3211</td><td>0.59</td></tr>\n",
              "</tbody>\n",
              "</table>\n"
            ],
            "text/markdown": "\nA grouped_df: 14 × 5\n\n| Major &lt;chr&gt; | Gender &lt;chr&gt; | n &lt;int&gt; | n_rejected &lt;dbl&gt; | p_rejected &lt;dbl&gt; |\n|---|---|---|---|---|\n| A     | F |  108 |   19 | 0.18 |\n| A     | M | 1138 |  313 | 0.28 |\n| B     | F |   25 |    8 | 0.32 |\n| B     | M |  560 |  207 | 0.37 |\n| C     | F |  593 |  392 | 0.66 |\n| C     | M |  325 |  205 | 0.63 |\n| D     | F |  375 |  244 | 0.65 |\n| D     | M |  417 |  279 | 0.67 |\n| E     | F |  393 |  299 | 0.76 |\n| E     | M |  191 |  138 | 0.72 |\n| F     | F |  341 |  316 | 0.93 |\n| F     | M |  373 |  351 | 0.94 |\n| Other | F | 2486 | 1549 | 0.62 |\n| Other | M | 5438 | 3211 | 0.59 |\n\n",
            "text/latex": "A grouped\\_df: 14 × 5\n\\begin{tabular}{lllll}\n Major & Gender & n & n\\_rejected & p\\_rejected\\\\\n <chr> & <chr> & <int> & <dbl> & <dbl>\\\\\n\\hline\n\t A     & F &  108 &   19 & 0.18\\\\\n\t A     & M & 1138 &  313 & 0.28\\\\\n\t B     & F &   25 &    8 & 0.32\\\\\n\t B     & M &  560 &  207 & 0.37\\\\\n\t C     & F &  593 &  392 & 0.66\\\\\n\t C     & M &  325 &  205 & 0.63\\\\\n\t D     & F &  375 &  244 & 0.65\\\\\n\t D     & M &  417 &  279 & 0.67\\\\\n\t E     & F &  393 &  299 & 0.76\\\\\n\t E     & M &  191 &  138 & 0.72\\\\\n\t F     & F &  341 &  316 & 0.93\\\\\n\t F     & M &  373 &  351 & 0.94\\\\\n\t Other & F & 2486 & 1549 & 0.62\\\\\n\t Other & M & 5438 & 3211 & 0.59\\\\\n\\end{tabular}\n",
            "text/plain": [
              "   Major Gender n    n_rejected p_rejected\n",
              "1  A     F       108   19       0.18      \n",
              "2  A     M      1138  313       0.28      \n",
              "3  B     F        25    8       0.32      \n",
              "4  B     M       560  207       0.37      \n",
              "5  C     F       593  392       0.66      \n",
              "6  C     M       325  205       0.63      \n",
              "7  D     F       375  244       0.65      \n",
              "8  D     M       417  279       0.67      \n",
              "9  E     F       393  299       0.76      \n",
              "10 E     M       191  138       0.72      \n",
              "11 F     F       341  316       0.93      \n",
              "12 F     M       373  351       0.94      \n",
              "13 Other F      2486 1549       0.62      \n",
              "14 Other M      5438 3211       0.59      "
            ]
          },
          "metadata": {}
        }
      ],
      "source": [
        "admission_by_major_gender <- berkley %>%\n",
        "  group_by(Major, Gender) %>%\n",
        "    summarize(\n",
        "        n = n(),\n",
        "        n_rejected = sum(is_rejected),\n",
        "        p_rejected = round(mean(is_rejected), 2)\n",
        "    )\n",
        "admission_by_major_gender"
      ]
    },
    {
      "cell_type": "code",
      "execution_count": 25,
      "id": "lQ1n7NnriFjt",
      "metadata": {
        "id": "lQ1n7NnriFjt",
        "outputId": "6a53bb7a-b52d-42e2-e8b1-d66347a5198b",
        "colab": {
          "base_uri": "https://localhost:8080/",
          "height": 437
        }
      },
      "outputs": [
        {
          "output_type": "display_data",
          "data": {
            "text/plain": [
              "plot without title"
            ],
            "image/png": "[encoded data removed]"
          },
          "metadata": {
            "image/png": {
              "width": 420,
              "height": 420
            }
          }
        }
      ],
      "source": [
        "admission_by_major_gender %>%\n",
        "  ggplot(aes(x = Major, y = p_rejected, fill=Gender)) +\n",
        "    geom_bar(stat = \"identity\", position = \"dodge\") +\n",
        "    labs(\n",
        "      y = \"Admission rate\",\n",
        "      x = \"Major\"\n",
        "    ) +\n",
        "    theme(axis.text.x = element_text(angle = 45, hjust = 1))"
      ]
    },
    {
      "cell_type": "markdown",
      "id": "6C-aYAmjj1DE",
      "metadata": {
        "id": "6C-aYAmjj1DE"
      },
      "source": [
        "## Regression with Categorical Variables\n",
        "\n"
      ]
    },
    {
      "cell_type": "code",
      "execution_count": 26,
      "id": "rcGOl14Dj56H",
      "metadata": {
        "colab": {
          "base_uri": "https://localhost:8080/",
          "height": 286
        },
        "id": "rcGOl14Dj56H",
        "outputId": "c1f395c1-2502-4489-c414-2722a029d9c9"
      },
      "outputs": [
        {
          "output_type": "display_data",
          "data": {
            "text/html": [
              "<table class=\"dataframe\">\n",
              "<caption>A tibble: 6 × 5</caption>\n",
              "<thead>\n",
              "\t<tr><th scope=col>Year</th><th scope=col>Major</th><th scope=col>Gender</th><th scope=col>Admission</th><th scope=col>is_rejected</th></tr>\n",
              "\t<tr><th scope=col>&lt;dbl&gt;</th><th scope=col>&lt;chr&gt;</th><th scope=col>&lt;chr&gt;</th><th scope=col>&lt;chr&gt;</th><th scope=col>&lt;dbl&gt;</th></tr>\n",
              "</thead>\n",
              "<tbody>\n",
              "\t<tr><td>1973</td><td>C    </td><td>F</td><td>Rejected</td><td>1</td></tr>\n",
              "\t<tr><td>1973</td><td>B    </td><td>M</td><td>Accepted</td><td>0</td></tr>\n",
              "\t<tr><td>1973</td><td>Other</td><td>F</td><td>Accepted</td><td>0</td></tr>\n",
              "\t<tr><td>1973</td><td>Other</td><td>M</td><td>Accepted</td><td>0</td></tr>\n",
              "\t<tr><td>1973</td><td>Other</td><td>M</td><td>Rejected</td><td>1</td></tr>\n",
              "\t<tr><td>1973</td><td>Other</td><td>M</td><td>Rejected</td><td>1</td></tr>\n",
              "</tbody>\n",
              "</table>\n"
            ],
            "text/markdown": "\nA tibble: 6 × 5\n\n| Year &lt;dbl&gt; | Major &lt;chr&gt; | Gender &lt;chr&gt; | Admission &lt;chr&gt; | is_rejected &lt;dbl&gt; |\n|---|---|---|---|---|\n| 1973 | C     | F | Rejected | 1 |\n| 1973 | B     | M | Accepted | 0 |\n| 1973 | Other | F | Accepted | 0 |\n| 1973 | Other | M | Accepted | 0 |\n| 1973 | Other | M | Rejected | 1 |\n| 1973 | Other | M | Rejected | 1 |\n\n",
            "text/latex": "A tibble: 6 × 5\n\\begin{tabular}{lllll}\n Year & Major & Gender & Admission & is\\_rejected\\\\\n <dbl> & <chr> & <chr> & <chr> & <dbl>\\\\\n\\hline\n\t 1973 & C     & F & Rejected & 1\\\\\n\t 1973 & B     & M & Accepted & 0\\\\\n\t 1973 & Other & F & Accepted & 0\\\\\n\t 1973 & Other & M & Accepted & 0\\\\\n\t 1973 & Other & M & Rejected & 1\\\\\n\t 1973 & Other & M & Rejected & 1\\\\\n\\end{tabular}\n",
            "text/plain": [
              "  Year Major Gender Admission is_rejected\n",
              "1 1973 C     F      Rejected  1          \n",
              "2 1973 B     M      Accepted  0          \n",
              "3 1973 Other F      Accepted  0          \n",
              "4 1973 Other M      Accepted  0          \n",
              "5 1973 Other M      Rejected  1          \n",
              "6 1973 Other M      Rejected  1          "
            ]
          },
          "metadata": {}
        }
      ],
      "source": [
        "berkley %>% head()"
      ]
    },
    {
      "cell_type": "code",
      "execution_count": 27,
      "id": "8_dQOy0Uj8af",
      "metadata": {
        "colab": {
          "base_uri": "https://localhost:8080/",
          "height": 255
        },
        "id": "8_dQOy0Uj8af",
        "outputId": "221d9e1e-737b-45f6-d78f-4c76ca628ada"
      },
      "outputs": [
        {
          "output_type": "display_data",
          "data": {
            "text/html": [
              "<table class=\"dataframe\">\n",
              "<caption>A matrix: 6 × 2 of type dbl</caption>\n",
              "<thead>\n",
              "\t<tr><th></th><th scope=col>GenderF</th><th scope=col>GenderM</th></tr>\n",
              "</thead>\n",
              "<tbody>\n",
              "\t<tr><th scope=row>1</th><td>1</td><td>0</td></tr>\n",
              "\t<tr><th scope=row>2</th><td>0</td><td>1</td></tr>\n",
              "\t<tr><th scope=row>3</th><td>1</td><td>0</td></tr>\n",
              "\t<tr><th scope=row>4</th><td>0</td><td>1</td></tr>\n",
              "\t<tr><th scope=row>5</th><td>0</td><td>1</td></tr>\n",
              "\t<tr><th scope=row>6</th><td>0</td><td>1</td></tr>\n",
              "</tbody>\n",
              "</table>\n"
            ],
            "text/markdown": "\nA matrix: 6 × 2 of type dbl\n\n| <!--/--> | GenderF | GenderM |\n|---|---|---|\n| 1 | 1 | 0 |\n| 2 | 0 | 1 |\n| 3 | 1 | 0 |\n| 4 | 0 | 1 |\n| 5 | 0 | 1 |\n| 6 | 0 | 1 |\n\n",
            "text/latex": "A matrix: 6 × 2 of type dbl\n\\begin{tabular}{r|ll}\n  & GenderF & GenderM\\\\\n\\hline\n\t1 & 1 & 0\\\\\n\t2 & 0 & 1\\\\\n\t3 & 1 & 0\\\\\n\t4 & 0 & 1\\\\\n\t5 & 0 & 1\\\\\n\t6 & 0 & 1\\\\\n\\end{tabular}\n",
            "text/plain": [
              "  GenderF GenderM\n",
              "1 1       0      \n",
              "2 0       1      \n",
              "3 1       0      \n",
              "4 0       1      \n",
              "5 0       1      \n",
              "6 0       1      "
            ]
          },
          "metadata": {}
        }
      ],
      "source": [
        "model_matrix <- model.matrix(lm(is_rejected ~ 0 + Gender, data = berkley))\n",
        "model_matrix %>% head()"
      ]
    },
    {
      "cell_type": "code",
      "execution_count": 28,
      "id": "KR3u5j_AkJHF",
      "metadata": {
        "colab": {
          "base_uri": "https://localhost:8080/",
          "height": 286
        },
        "id": "KR3u5j_AkJHF",
        "outputId": "be0572cc-a554-4468-8b64-3b726269b615"
      },
      "outputs": [
        {
          "output_type": "display_data",
          "data": {
            "text/html": [
              "<table class=\"dataframe\">\n",
              "<caption>A tibble: 6 × 7</caption>\n",
              "<thead>\n",
              "\t<tr><th scope=col>Year</th><th scope=col>Major</th><th scope=col>Gender</th><th scope=col>Admission</th><th scope=col>is_rejected</th><th scope=col>GenderF</th><th scope=col>GenderM</th></tr>\n",
              "\t<tr><th scope=col>&lt;dbl&gt;</th><th scope=col>&lt;chr&gt;</th><th scope=col>&lt;chr&gt;</th><th scope=col>&lt;chr&gt;</th><th scope=col>&lt;dbl&gt;</th><th scope=col>&lt;dbl&gt;</th><th scope=col>&lt;dbl&gt;</th></tr>\n",
              "</thead>\n",
              "<tbody>\n",
              "\t<tr><td>1973</td><td>C    </td><td>F</td><td>Rejected</td><td>1</td><td>1</td><td>0</td></tr>\n",
              "\t<tr><td>1973</td><td>B    </td><td>M</td><td>Accepted</td><td>0</td><td>0</td><td>1</td></tr>\n",
              "\t<tr><td>1973</td><td>Other</td><td>F</td><td>Accepted</td><td>0</td><td>1</td><td>0</td></tr>\n",
              "\t<tr><td>1973</td><td>Other</td><td>M</td><td>Accepted</td><td>0</td><td>0</td><td>1</td></tr>\n",
              "\t<tr><td>1973</td><td>Other</td><td>M</td><td>Rejected</td><td>1</td><td>0</td><td>1</td></tr>\n",
              "\t<tr><td>1973</td><td>Other</td><td>M</td><td>Rejected</td><td>1</td><td>0</td><td>1</td></tr>\n",
              "</tbody>\n",
              "</table>\n"
            ],
            "text/markdown": "\nA tibble: 6 × 7\n\n| Year &lt;dbl&gt; | Major &lt;chr&gt; | Gender &lt;chr&gt; | Admission &lt;chr&gt; | is_rejected &lt;dbl&gt; | GenderF &lt;dbl&gt; | GenderM &lt;dbl&gt; |\n|---|---|---|---|---|---|---|\n| 1973 | C     | F | Rejected | 1 | 1 | 0 |\n| 1973 | B     | M | Accepted | 0 | 0 | 1 |\n| 1973 | Other | F | Accepted | 0 | 1 | 0 |\n| 1973 | Other | M | Accepted | 0 | 0 | 1 |\n| 1973 | Other | M | Rejected | 1 | 0 | 1 |\n| 1973 | Other | M | Rejected | 1 | 0 | 1 |\n\n",
            "text/latex": "A tibble: 6 × 7\n\\begin{tabular}{lllllll}\n Year & Major & Gender & Admission & is\\_rejected & GenderF & GenderM\\\\\n <dbl> & <chr> & <chr> & <chr> & <dbl> & <dbl> & <dbl>\\\\\n\\hline\n\t 1973 & C     & F & Rejected & 1 & 1 & 0\\\\\n\t 1973 & B     & M & Accepted & 0 & 0 & 1\\\\\n\t 1973 & Other & F & Accepted & 0 & 1 & 0\\\\\n\t 1973 & Other & M & Accepted & 0 & 0 & 1\\\\\n\t 1973 & Other & M & Rejected & 1 & 0 & 1\\\\\n\t 1973 & Other & M & Rejected & 1 & 0 & 1\\\\\n\\end{tabular}\n",
            "text/plain": [
              "  Year Major Gender Admission is_rejected GenderF GenderM\n",
              "1 1973 C     F      Rejected  1           1       0      \n",
              "2 1973 B     M      Accepted  0           0       1      \n",
              "3 1973 Other F      Accepted  0           1       0      \n",
              "4 1973 Other M      Accepted  0           0       1      \n",
              "5 1973 Other M      Rejected  1           0       1      \n",
              "6 1973 Other M      Rejected  1           0       1      "
            ]
          },
          "metadata": {}
        }
      ],
      "source": [
        "berkey <- berkley %>%\n",
        "  bind_cols(model_matrix)\n",
        "berkey %>% head()"
      ]
    },
    {
      "cell_type": "markdown",
      "id": "518ddd92",
      "metadata": {
        "id": "518ddd92"
      },
      "source": [
        "Lassen Sie uns die Mittelwerte der Indikatorvariable für die Zulassung nach Geschlecht und Studienrichtung berechnen.\n",
        "\n",
        "Das Modell ist wie folgt:\n",
        "\n",
        "$$\n",
        "\\widehat{\\text{is\\_rejected}}_i = \\hat{\\beta}_0 + \\hat{\\beta}_{F} \\text{GenderF}_i + \\hat{\\beta}_{M} \\text{GenderM}_i  \n",
        "$$\n",
        "\n",
        "Eine alternative Art und Weise, das Modell zu schreiben, ist:\n",
        "\n",
        "$$\n",
        "\\widehat{\\text{is\\_rejected}}_i = \\hat{\\beta}_0 + \\hat{\\beta}_{\\text{Gender}[i]}\n",
        "$$\n"
      ]
    },
    {
      "cell_type": "code",
      "execution_count": 29,
      "id": "Y6F33W4Uic7F",
      "metadata": {
        "colab": {
          "base_uri": "https://localhost:8080/",
          "height": 329
        },
        "id": "Y6F33W4Uic7F",
        "outputId": "a388161c-9d1c-407c-9a08-453363c88024"
      },
      "outputs": [
        {
          "output_type": "display_data",
          "data": {
            "text/plain": [
              "\n",
              "Call:\n",
              "lm(formula = is_rejected ~ Gender, data = berkley)\n",
              "\n",
              "Residuals:\n",
              "    Min      1Q  Median      3Q     Max \n",
              "-0.6542 -0.5572  0.3458  0.4428  0.4428 \n",
              "\n",
              "Coefficients:\n",
              "            Estimate Std. Error t value Pr(>|t|)    \n",
              "(Intercept)  0.65425    0.00745   87.82   <2e-16 ***\n",
              "GenderM     -0.09703    0.00916  -10.59   <2e-16 ***\n",
              "---\n",
              "Signif. codes:  0 ‘***’ 0.001 ‘**’ 0.01 ‘*’ 0.05 ‘.’ 0.1 ‘ ’ 1\n",
              "\n",
              "Residual standard error: 0.4897 on 12761 degrees of freedom\n",
              "Multiple R-squared:  0.008717,\tAdjusted R-squared:  0.008639 \n",
              "F-statistic: 112.2 on 1 and 12761 DF,  p-value: < 2.2e-16\n"
            ]
          },
          "metadata": {}
        }
      ],
      "source": [
        "lm(is_rejected ~ Gender, data = berkley) %>%\n",
        "  summary()"
      ]
    },
    {
      "cell_type": "code",
      "execution_count": 30,
      "id": "1AftA9SwjNxq",
      "metadata": {
        "id": "1AftA9SwjNxq",
        "outputId": "4f63dff2-d7f2-42cf-a508-f3c43246861c",
        "colab": {
          "base_uri": "https://localhost:8080/",
          "height": 434
        }
      },
      "outputs": [
        {
          "output_type": "display_data",
          "data": {
            "text/plain": [
              "\n",
              "Call:\n",
              "lm(formula = is_rejected ~ Gender + Major, data = berkley)\n",
              "\n",
              "Residuals:\n",
              "    Min      1Q  Median      3Q     Max \n",
              "-0.9444 -0.5946  0.3293  0.4054  0.7352 \n",
              "\n",
              "Coefficients:\n",
              "             Estimate Std. Error t value Pr(>|t|)    \n",
              "(Intercept)  0.284330   0.015809  17.985  < 2e-16 ***\n",
              "GenderM     -0.019574   0.009324  -2.099   0.0358 *  \n",
              "MajorB       0.101929   0.023568   4.325 1.54e-05 ***\n",
              "MajorC       0.372926   0.021104  17.671  < 2e-16 ***\n",
              "MajorD       0.386329   0.021668  17.829  < 2e-16 ***\n",
              "MajorE       0.470359   0.024203  19.434  < 2e-16 ***\n",
              "MajorF       0.660069   0.022367  29.511  < 2e-16 ***\n",
              "MajorOther   0.329810   0.014484  22.771  < 2e-16 ***\n",
              "---\n",
              "Signif. codes:  0 ‘***’ 0.001 ‘**’ 0.01 ‘*’ 0.05 ‘.’ 0.1 ‘ ’ 1\n",
              "\n",
              "Residual standard error: 0.4702 on 12755 degrees of freedom\n",
              "Multiple R-squared:  0.08673,\tAdjusted R-squared:  0.08623 \n",
              "F-statistic:   173 on 7 and 12755 DF,  p-value: < 2.2e-16\n"
            ]
          },
          "metadata": {}
        }
      ],
      "source": [
        "lm(is_rejected ~ Gender + Major, data = berkley) %>%\n",
        "  summary()"
      ]
    },
    {
      "cell_type": "markdown",
      "id": "F9tnsj-KjQQr",
      "metadata": {
        "id": "F9tnsj-KjQQr"
      },
      "source": [
        "## BIP pro Kopf und Staatsausgaben\n",
        "\n",
        "Der Datensatz `gdp2019` enthält die BIP pro Kopf in aktuellen Preisen für 142 Länder im Jahr 2019. Darüber hinaus zeigt die Variable `spending` die Staatsausgaben in diesen Ländern als Anteil (in Prozent) des BIP.\n",
        "\n",
        "-   `gdppc` (numeric): [BIP pro Kopf](https://www.imf.org/external/datamapper/NGDPDPC@WEO/OEMDC/ADVEC/WEOWORLD) in USD (aktuelle Preise)\n",
        "-   `spending` (numeric): [Staatsausgaben als Anteil des BIP](https://www.imf.org/external/datamapper/exp@FPP/USA/FRA/JPN/GBR/SWE/ESP/ITA/ZAF/IND)."
      ]
    },
    {
      "cell_type": "code",
      "execution_count": 31,
      "id": "c8NthniFjgs6",
      "metadata": {
        "id": "c8NthniFjgs6",
        "outputId": "8c8135d1-bde4-43c2-e7c5-4352dce753e1",
        "colab": {
          "base_uri": "https://localhost:8080/",
          "height": 425
        }
      },
      "outputs": [
        {
          "output_type": "stream",
          "name": "stderr",
          "text": [
            "\u001b[1mRows: \u001b[22m\u001b[34m198\u001b[39m \u001b[1mColumns: \u001b[22m\u001b[34m4\u001b[39m\n",
            "\u001b[36m──\u001b[39m \u001b[1mColumn specification\u001b[22m \u001b[36m────────────────────────────────────────────────────────\u001b[39m\n",
            "\u001b[1mDelimiter:\u001b[22m \",\"\n",
            "\u001b[31mchr\u001b[39m (1): country\n",
            "\u001b[32mdbl\u001b[39m (3): year, gdppc, spending\n",
            "\n",
            "\u001b[36mℹ\u001b[39m Use `spec()` to retrieve the full column specification for this data.\n",
            "\u001b[36mℹ\u001b[39m Specify the column types or set `show_col_types = FALSE` to quiet this message.\n"
          ]
        },
        {
          "output_type": "display_data",
          "data": {
            "text/html": [
              "<table class=\"dataframe\">\n",
              "<caption>A tibble: 6 × 4</caption>\n",
              "<thead>\n",
              "\t<tr><th scope=col>country</th><th scope=col>year</th><th scope=col>gdppc</th><th scope=col>spending</th></tr>\n",
              "\t<tr><th scope=col>&lt;chr&gt;</th><th scope=col>&lt;dbl&gt;</th><th scope=col>&lt;dbl&gt;</th><th scope=col>&lt;dbl&gt;</th></tr>\n",
              "</thead>\n",
              "<tbody>\n",
              "\t<tr><td>Albania            </td><td>2019</td><td> 5345.058</td><td>29.15313</td></tr>\n",
              "\t<tr><td>Algeria            </td><td>2019</td><td> 3953.402</td><td>41.78414</td></tr>\n",
              "\t<tr><td>Angola             </td><td>2019</td><td> 2612.246</td><td>20.40298</td></tr>\n",
              "\t<tr><td>Antigua and Barbuda</td><td>2019</td><td>17495.760</td><td>22.61898</td></tr>\n",
              "\t<tr><td>Argentina          </td><td>2019</td><td>10054.023</td><td>37.70266</td></tr>\n",
              "\t<tr><td>Aruba              </td><td>2019</td><td>30850.838</td><td>23.20869</td></tr>\n",
              "</tbody>\n",
              "</table>\n"
            ],
            "text/markdown": "\nA tibble: 6 × 4\n\n| country &lt;chr&gt; | year &lt;dbl&gt; | gdppc &lt;dbl&gt; | spending &lt;dbl&gt; |\n|---|---|---|---|\n| Albania             | 2019 |  5345.058 | 29.15313 |\n| Algeria             | 2019 |  3953.402 | 41.78414 |\n| Angola              | 2019 |  2612.246 | 20.40298 |\n| Antigua and Barbuda | 2019 | 17495.760 | 22.61898 |\n| Argentina           | 2019 | 10054.023 | 37.70266 |\n| Aruba               | 2019 | 30850.838 | 23.20869 |\n\n",
            "text/latex": "A tibble: 6 × 4\n\\begin{tabular}{llll}\n country & year & gdppc & spending\\\\\n <chr> & <dbl> & <dbl> & <dbl>\\\\\n\\hline\n\t Albania             & 2019 &  5345.058 & 29.15313\\\\\n\t Algeria             & 2019 &  3953.402 & 41.78414\\\\\n\t Angola              & 2019 &  2612.246 & 20.40298\\\\\n\t Antigua and Barbuda & 2019 & 17495.760 & 22.61898\\\\\n\t Argentina           & 2019 & 10054.023 & 37.70266\\\\\n\t Aruba               & 2019 & 30850.838 & 23.20869\\\\\n\\end{tabular}\n",
            "text/plain": [
              "  country             year gdppc     spending\n",
              "1 Albania             2019  5345.058 29.15313\n",
              "2 Algeria             2019  3953.402 41.78414\n",
              "3 Angola              2019  2612.246 20.40298\n",
              "4 Antigua and Barbuda 2019 17495.760 22.61898\n",
              "5 Argentina           2019 10054.023 37.70266\n",
              "6 Aruba               2019 30850.838 23.20869"
            ]
          },
          "metadata": {}
        }
      ],
      "source": [
        "gdp2019 <- read_csv(\n",
        "  \"https://raw.githubusercontent.com/feb-sofia/econometrics-2023/main/data/gdpgov2019.csv\"\n",
        "  ) %>%\n",
        "  filter(!is.na(spending))\n",
        "\n",
        "gdp2019 %>% head()"
      ]
    },
    {
      "cell_type": "markdown",
      "id": "cXvb442tjoKZ",
      "metadata": {
        "id": "cXvb442tjoKZ"
      },
      "source": [
        "1.  Zuerst möchten wir uns die Daten anschauen\n",
        "\n",
        "$$\n",
        "\\text{gdppc}_i = \\beta_0 + \\beta_1 \\text{spending}_i + e_i, \\quad e_i \\sim N(0, \\sigma^2)\n",
        "$$\n"
      ]
    },
    {
      "cell_type": "code",
      "execution_count": 32,
      "id": "l_E1dvzBjrPN",
      "metadata": {
        "colab": {
          "base_uri": "https://localhost:8080/",
          "height": 593
        },
        "id": "l_E1dvzBjrPN",
        "outputId": "0f6e3e9f-1448-48d8-f35c-d95e65b1b73e"
      },
      "outputs": [
        {
          "output_type": "stream",
          "name": "stderr",
          "text": [
            "\u001b[1m\u001b[22m`geom_smooth()` using formula = 'y ~ x'\n",
            "Warning message:\n",
            "“\u001b[1m\u001b[22mRemoved 2 rows containing non-finite outside the scale range (`stat_smooth()`).”\n",
            "Warning message:\n",
            "“\u001b[1m\u001b[22mRemoved 2 rows containing missing values or values outside the scale range\n",
            "(`geom_point()`).”\n",
            "Warning message:\n",
            "“\u001b[1m\u001b[22mRemoved 1 row containing missing values or values outside the scale range\n",
            "(`geom_smooth()`).”\n"
          ]
        },
        {
          "output_type": "display_data",
          "data": {
            "text/plain": [
              "plot without title"
            ],
            "image/png": "[encoded data removed]"
          },
          "metadata": {
            "image/png": {
              "width": 420,
              "height": 420
            }
          }
        }
      ],
      "source": [
        "gdp2019 %>%\n",
        "  ggplot(aes(x = spending, y = gdppc)) +\n",
        "  geom_point() +\n",
        "  geom_smooth(method = \"lm\") +\n",
        "  labs(\n",
        "    y = \"GDP per capita\",\n",
        "    x = \"Gov. spending\"\n",
        "  ) +\n",
        "  lims(\n",
        "    x = c(0, 70),\n",
        "    y = c(0, 90000)\n",
        "  )"
      ]
    },
    {
      "cell_type": "code",
      "execution_count": 33,
      "id": "l-ZO9rl1jv6T",
      "metadata": {
        "id": "l-ZO9rl1jv6T",
        "outputId": "96b6190e-d27c-42c7-8e66-04ce9a532c2d",
        "colab": {
          "base_uri": "https://localhost:8080/",
          "height": 329
        }
      },
      "outputs": [
        {
          "output_type": "display_data",
          "data": {
            "text/plain": [
              "\n",
              "Call:\n",
              "lm(formula = gdppc ~ spending, data = gdp2019)\n",
              "\n",
              "Residuals:\n",
              "   Min     1Q Median     3Q    Max \n",
              "-63798 -10356  -7064   3042  91817 \n",
              "\n",
              "Coefficients:\n",
              "            Estimate Std. Error t value Pr(>|t|)    \n",
              "(Intercept)   1219.7     4105.4   0.297    0.767    \n",
              "spending       483.3      118.8   4.069 7.86e-05 ***\n",
              "---\n",
              "Signif. codes:  0 ‘***’ 0.001 ‘**’ 0.01 ‘*’ 0.05 ‘.’ 0.1 ‘ ’ 1\n",
              "\n",
              "Residual standard error: 19760 on 140 degrees of freedom\n",
              "Multiple R-squared:  0.1057,\tAdjusted R-squared:  0.09936 \n",
              "F-statistic: 16.55 on 1 and 140 DF,  p-value: 7.861e-05\n"
            ]
          },
          "metadata": {}
        }
      ],
      "source": [
        "# Estimate the model\n",
        "summary(lm(gdppc ~ spending, data = gdp2019))"
      ]
    },
    {
      "cell_type": "markdown",
      "id": "H4fh2bP-kyJz",
      "metadata": {
        "id": "H4fh2bP-kyJz"
      },
      "source": [
        "2.  Nun möchten wir die Daten in Kategorien einteilen. Wir verwenden die folgende Einteilung:\n",
        "\n",
        "-   Low: if $\\text{gdppc} \\leq 1025$\n",
        "-   Medium-low: if $1025 < \\text{gdppc} \\leq 3995$\n",
        "-   Medium-high: if $3995 < \\text{gdppc} \\leq 12375$\n",
        "-   High: if $12375 < \\text{gdppc} \\leq 30000$\n",
        "-   Very high: if $\\text{gdppc} > 30000$"
      ]
    },
    {
      "cell_type": "code",
      "execution_count": 34,
      "id": "BfxYQ_mlkxBk",
      "metadata": {
        "colab": {
          "base_uri": "https://localhost:8080/",
          "height": 69
        },
        "id": "BfxYQ_mlkxBk",
        "outputId": "31c0526b-6f37-4667-b937-f5d45f2fb275"
      },
      "outputs": [
        {
          "output_type": "display_data",
          "data": {
            "text/plain": [
              "\n",
              "        Low  Medium-low Medium-high        High   Very high \n",
              "         13          36          40          26          27 "
            ]
          },
          "metadata": {}
        }
      ],
      "source": [
        "gdp2019 <- gdp2019 %>%\n",
        "  mutate(\n",
        "    gdppc_gr = cut(\n",
        "      gdppc,\n",
        "      breaks = c(0, 1025, 3995, 12375, 30000, Inf),\n",
        "      labels = c(\"Low\", \"Medium-low\", \"Medium-high\", \"High\", \"Very high\"))\n",
        "  )\n",
        "table(gdp2019$gdppc_gr)"
      ]
    },
    {
      "cell_type": "markdown",
      "id": "AYRyUJ-Ik4tP",
      "metadata": {
        "id": "AYRyUJ-Ik4tP"
      },
      "source": [
        "1. Wir schätzen zuerst ein lineares Modell mit den Kategorien als Dummy-Variablen:\n",
        "\n",
        "$$\n",
        "\\text{gdppc}_i = \\beta_0 + \\beta_{\\text{gdppc\\_gr}[i]} + e_i, e_i \\sim N(0, \\sigma^2)\n",
        "$$\n",
        "\n",
        "Dabei ist:\n",
        "\n",
        "$$\n",
        "\\beta_{\\text{gdppc\\_gr}[i]} = \\begin{cases}\n",
        "\\beta_{\\text{low}} & \\text{falls } \\text{gdppc\\_gr}_i = \\text{Low} \\\\\n",
        "\\beta_{\\text{medium-low}} & \\text{falls } \\text{gdppc\\_gr}_i = \\text{Medium-low} \\\\\n",
        "\\beta_{\\text{medium-high}} & \\text{falls } \\text{gdppc\\_gr}_i = \\text{Medium-high} \\\\\n",
        "\\beta_{\\text{high}} & \\text{falls } \\text{gdppc\\_gr}_i = \\text{High} \\\\\n",
        "\\beta_{\\text{very-high}} & \\text{falls } \\text{gdppc\\_gr}_i = \\text{Very high}\n",
        "\\end{cases}\n",
        "$$\n",
        "\n",
        "Eine andere Art und Weise, das Modell aufzuschreiben, ist:\n",
        "\n",
        "$$\n",
        "\\text{gdppc}_i = \\beta_0 + \\beta_1 \\text{low}_i + \\beta_2 \\text{medium-low}_i + \\beta_3 \\text{medium-high}_i + \\beta_4 \\text{high}_i + \\beta_5 \\text{very-high}_i + e_i, e_i \\sim N(0, \\sigma^2)\n",
        "$$\n",
        "\n"
      ]
    },
    {
      "cell_type": "code",
      "source": [
        "fit <- lm(gdppc ~ spending + gdppc_gr, data = gdp2019)\n",
        "summary(fit)"
      ],
      "metadata": {
        "id": "kg7z9sC5xaG9",
        "outputId": "9b1d734b-edad-4a56-a3b9-87ff25e7e316",
        "colab": {
          "base_uri": "https://localhost:8080/",
          "height": 399
        }
      },
      "id": "kg7z9sC5xaG9",
      "execution_count": 35,
      "outputs": [
        {
          "output_type": "display_data",
          "data": {
            "text/plain": [
              "\n",
              "Call:\n",
              "lm(formula = gdppc ~ spending + gdppc_gr, data = gdp2019)\n",
              "\n",
              "Residuals:\n",
              "   Min     1Q Median     3Q    Max \n",
              "-21965  -2318   -311   1100  60058 \n",
              "\n",
              "Coefficients:\n",
              "                    Estimate Std. Error t value Pr(>|t|)    \n",
              "(Intercept)          -144.39    2593.15  -0.056    0.956    \n",
              "spending               44.80      55.91   0.801    0.424    \n",
              "gdppc_grMedium-low   1308.32    2811.85   0.465    0.642    \n",
              "gdppc_grMedium-high  5835.94    2784.61   2.096    0.038 *  \n",
              "gdppc_grHigh        18460.21    3051.44   6.050 1.33e-08 ***\n",
              "gdppc_grVery high   51920.69    3082.84  16.842  < 2e-16 ***\n",
              "---\n",
              "Signif. codes:  0 ‘***’ 0.001 ‘**’ 0.01 ‘*’ 0.05 ‘.’ 0.1 ‘ ’ 1\n",
              "\n",
              "Residual standard error: 8518 on 136 degrees of freedom\n",
              "Multiple R-squared:  0.8386,\tAdjusted R-squared:  0.8327 \n",
              "F-statistic: 141.4 on 5 and 136 DF,  p-value: < 2.2e-16\n"
            ]
          },
          "metadata": {}
        }
      ]
    },
    {
      "cell_type": "code",
      "source": [
        "# prompt: calculate the predictions of fit and plot them\n",
        "\n",
        "gdp2019$predictions <- predict(fit)\n",
        "\n",
        "ggplot(gdp2019, aes(x = spending, y = gdppc, color = gdppc_gr)) +\n",
        "  geom_point() +\n",
        "  geom_line(aes(y = predictions)) +\n",
        "  labs(\n",
        "    y = \"GDP per capita\",\n",
        "    x = \"Gov. spending\",\n",
        "    color = \"GDP per capita group\"\n",
        "  ) +\n",
        "  lims(\n",
        "    x = c(0, 70),\n",
        "    y = c(0, 90000)\n",
        "  )"
      ],
      "metadata": {
        "id": "CpeqRAz9y59U",
        "outputId": "ae0d7270-33c6-404b-8800-cea5bb421311",
        "colab": {
          "base_uri": "https://localhost:8080/",
          "height": 541
        }
      },
      "id": "CpeqRAz9y59U",
      "execution_count": 38,
      "outputs": [
        {
          "output_type": "stream",
          "name": "stderr",
          "text": [
            "Warning message:\n",
            "“\u001b[1m\u001b[22mRemoved 2 rows containing missing values or values outside the scale range\n",
            "(`geom_point()`).”\n",
            "Warning message:\n",
            "“\u001b[1m\u001b[22mRemoved 1 row containing missing values or values outside the scale range\n",
            "(`geom_line()`).”\n"
          ]
        },
        {
          "output_type": "display_data",
          "data": {
            "text/plain": [
              "plot without title"
            ],
            "image/png": "[encoded data removed]"
          },
          "metadata": {
            "image/png": {
              "width": 420,
              "height": 420
            }
          }
        }
      ]
    },
    {
      "cell_type": "code",
      "execution_count": null,
      "id": "PgtmQaLclK6B",
      "metadata": {
        "id": "PgtmQaLclK6B"
      },
      "outputs": [],
      "source": [
        "# Calculate the predictions of the model and plot them\n",
        "\n"
      ]
    }
  ],
  "metadata": {
    "colab": {
      "provenance": [],
      "include_colab_link": true
    },
    "kernelspec": {
      "display_name": "R",
      "name": "ir"
    },
    "language_info": {
      "name": "R"
    }
  },
  "nbformat": 4,
  "nbformat_minor": 5
}