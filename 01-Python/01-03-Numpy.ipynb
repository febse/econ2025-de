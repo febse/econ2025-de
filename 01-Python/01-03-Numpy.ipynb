{
 "cells": [
  {
   "cell_type": "markdown",
   "id": "a2fcfe7437c36099",
   "metadata": {
    "collapsed": false
   },
   "source": [
    "## NumPy\n",
    "\n",
    "[![Open In Colab](https://colab.research.google.com/assets/colab-badge.svg)](https://colab.research.google.com/github/febse/econ2025-de/blob/main/01-Python/01-03-Numpy.ipynb)\n",
    "\n",
    "In der vorherigen Lektion haben wir uns mit Listen beschäftigt. Diese sind sehr flexibel, aber auch sehr langsam. Mit kleinen Listen werden wir das nicht merken, aber wenn wir mit großen Datenmengen arbeiten, dann können lange Laufzeiten zum Problem werden. \n",
    "\n",
    "NumPy (Numerical Python) ist ein Paket, das viele Funktionen enthält, die für die Arbeit mit großen Datenmengen geeignet sind."
   ]
  },
  {
   "cell_type": "markdown",
   "id": "4975406de5b95984",
   "metadata": {
    "collapsed": false
   },
   "source": [
    "NumPy-Arrays sind sehr ähnlich zu Listen, aber sie haben einige zusätzliche Eigenschaften. Zum Beispiel können wir mit NumPy-Arrays rechnen. Wenn wir zwei NumPy-Arrays addieren, dann werden die Elemente an der gleichen Stelle addiert. Diese Syntax ist sehr intuitiv und einfach zu lesen.\n"
   ]
  },
  {
   "cell_type": "code",
   "execution_count": 19,
   "id": "37f66ac1",
   "metadata": {},
   "outputs": [
    {
     "name": "stdout",
     "output_type": "stream",
     "text": [
      "[1 2 3 4 5]\n",
      "[0.1 0.2 0.3 0.4 0.5]\n"
     ]
    }
   ],
   "source": [
    "# Importieren der Bibliothek NumPy\n",
    "\n",
    "import numpy as np\n",
    "\n",
    "# Erstellen eines Arrays\n",
    "\n",
    "# 1D Array\n",
    "\n",
    "x = np.array([1, 2, 3, 4, 5])\n",
    "x\n",
    "\n",
    "y = np.array([0.1, 0.2, 0.3, 0.4, 0.5])\n",
    "print(x)\n",
    "print(y)"
   ]
  },
  {
   "cell_type": "code",
   "execution_count": 20,
   "id": "103508432468940a",
   "metadata": {
    "ExecuteTime": {
     "end_time": "2024-01-19T16:33:08.850239308Z",
     "start_time": "2024-01-19T16:33:08.840508861Z"
    }
   },
   "outputs": [
    {
     "name": "stdout",
     "output_type": "stream",
     "text": [
      "x + 1 = [2 3 4 5 6]\n",
      "x + y = [1.1 2.2 3.3 4.4 5.5]\n"
     ]
    }
   ],
   "source": [
    "z1 = x + 1 \n",
    "z2 = x + y\n",
    "print(\"x + 1 =\", z1)\n",
    "print(\"x + y =\", z2)"
   ]
  },
  {
   "cell_type": "markdown",
   "id": "682519be24526ac3",
   "metadata": {
    "collapsed": false
   },
   "source": [
    "Dasselbe funktioniert mit Python-Listen nicht. Wenn wir zwei Listen addieren, dann werden die Elemente an der gleichen Stelle nicht addiert, sondern die Listen werden aneinander gehängt."
   ]
  },
  {
   "cell_type": "markdown",
   "id": "e9d9442aa9dac5d0",
   "metadata": {
    "collapsed": false
   },
   "source": []
  },
  {
   "cell_type": "code",
   "execution_count": 21,
   "id": "8238f77bff4e06d8",
   "metadata": {
    "ExecuteTime": {
     "end_time": "2024-01-19T16:33:29.091072754Z",
     "start_time": "2024-01-19T16:33:29.041344389Z"
    }
   },
   "outputs": [
    {
     "data": {
      "text/plain": [
       "[2, 7, 5, 2, 1, 1, 1, 1]"
      ]
     },
     "execution_count": 21,
     "metadata": {},
     "output_type": "execute_result"
    }
   ],
   "source": [
    "x_list = [2, 7, 5, 2]\n",
    "y_list = [1, 1, 1, 1]\n",
    "x_plus_y_list = x_list + y_list\n",
    "x_plus_y_list"
   ]
  },
  {
   "cell_type": "code",
   "execution_count": 22,
   "id": "ca93c52ab1e9beb5",
   "metadata": {
    "ExecuteTime": {
     "end_time": "2024-01-19T16:33:44.680301381Z",
     "start_time": "2024-01-19T16:33:44.606103755Z"
    }
   },
   "outputs": [],
   "source": [
    "# x_list + 1"
   ]
  },
  {
   "cell_type": "markdown",
   "id": "3f6fd544341a8c97",
   "metadata": {
    "collapsed": false
   },
   "source": [
    "NumPy-Arrays haben auch einige Methoden, die wir mit Listen nicht haben. Zum Beispiel können wir die Summe aller Elemente eines Arrays berechnen."
   ]
  },
  {
   "cell_type": "code",
   "execution_count": 23,
   "id": "b4f1c863d071be31",
   "metadata": {
    "ExecuteTime": {
     "end_time": "2024-01-19T16:34:16.462615208Z",
     "start_time": "2024-01-19T16:34:16.415193125Z"
    }
   },
   "outputs": [
    {
     "data": {
      "text/plain": [
       "np.int64(15)"
      ]
     },
     "execution_count": 23,
     "metadata": {},
     "output_type": "execute_result"
    }
   ],
   "source": [
    "# Summe der Elemente\n",
    "x.sum()"
   ]
  },
  {
   "cell_type": "code",
   "execution_count": 24,
   "id": "9fd27821a15fa09c",
   "metadata": {
    "ExecuteTime": {
     "end_time": "2024-01-19T16:34:23.758686996Z",
     "start_time": "2024-01-19T16:34:23.749056123Z"
    }
   },
   "outputs": [
    {
     "data": {
      "text/plain": [
       "np.float64(3.0)"
      ]
     },
     "execution_count": 24,
     "metadata": {},
     "output_type": "execute_result"
    }
   ],
   "source": [
    "# Durchschnitt der Elemente (Arithmetischer Mittelwert)\n",
    "\n",
    "x.mean()"
   ]
  },
  {
   "cell_type": "code",
   "execution_count": 25,
   "id": "690eace8cca0f0e3",
   "metadata": {
    "ExecuteTime": {
     "end_time": "2024-01-19T16:34:28.778738929Z",
     "start_time": "2024-01-19T16:34:28.735085968Z"
    }
   },
   "outputs": [
    {
     "data": {
      "text/plain": [
       "np.float64(1.4142135623730951)"
      ]
     },
     "execution_count": 25,
     "metadata": {},
     "output_type": "execute_result"
    }
   ],
   "source": [
    "# Standardabweichung\n",
    "x.std()"
   ]
  },
  {
   "cell_type": "code",
   "execution_count": 26,
   "id": "9f04389c844c5d0b",
   "metadata": {
    "ExecuteTime": {
     "end_time": "2024-01-19T16:35:48.306704045Z",
     "start_time": "2024-01-19T16:35:48.262077443Z"
    }
   },
   "outputs": [
    {
     "data": {
      "text/plain": [
       "np.int64(1)"
      ]
     },
     "execution_count": 26,
     "metadata": {},
     "output_type": "execute_result"
    }
   ],
   "source": [
    "# Minimum\n",
    "x.min()"
   ]
  },
  {
   "cell_type": "code",
   "execution_count": 27,
   "id": "c0a15217f08e2c38",
   "metadata": {},
   "outputs": [
    {
     "data": {
      "text/plain": [
       "np.int64(5)"
      ]
     },
     "execution_count": 27,
     "metadata": {},
     "output_type": "execute_result"
    }
   ],
   "source": [
    "# Maximum\n",
    "x.max()"
   ]
  },
  {
   "cell_type": "markdown",
   "id": "28a5cb77a5fcf9bc",
   "metadata": {
    "collapsed": false
   },
   "source": [
    "### Slicing\n",
    "\n",
    "Wir können auch auf die Elemente eines Arrays zugreifen, indem wir einen Index angeben. Der Index beginnt bei 0."
   ]
  },
  {
   "cell_type": "code",
   "execution_count": 28,
   "id": "439bd3c7",
   "metadata": {},
   "outputs": [],
   "source": [
    "z = np.array([\"a\", \"b\", \"c\", \"d\", \"e\"])"
   ]
  },
  {
   "cell_type": "code",
   "execution_count": 29,
   "id": "72e5f25f2eb01a2",
   "metadata": {
    "ExecuteTime": {
     "end_time": "2024-01-19T16:36:43.266713224Z",
     "start_time": "2024-01-19T16:36:43.260188393Z"
    }
   },
   "outputs": [
    {
     "data": {
      "text/plain": [
       "np.str_('a')"
      ]
     },
     "execution_count": 29,
     "metadata": {},
     "output_type": "execute_result"
    }
   ],
   "source": [
    "# Das erste Element\n",
    "z[0]"
   ]
  },
  {
   "cell_type": "code",
   "execution_count": 30,
   "id": "d3296f86a9e55029",
   "metadata": {
    "ExecuteTime": {
     "end_time": "2024-01-19T16:36:51.782503290Z",
     "start_time": "2024-01-19T16:36:51.776577486Z"
    }
   },
   "outputs": [
    {
     "data": {
      "text/plain": [
       "array(['a', 'b'], dtype='<U1')"
      ]
     },
     "execution_count": 30,
     "metadata": {},
     "output_type": "execute_result"
    }
   ],
   "source": [
    "# Alle Elemente bis zur Indexposition 2 (exklusive)\n",
    "# Achten Sie darauf, dass der Index 0-basiert ist und daher das dritte Element ist eine Indexposition 2 hat\n",
    "z[:2]"
   ]
  },
  {
   "cell_type": "code",
   "execution_count": 31,
   "id": "42a909040be2b299",
   "metadata": {
    "ExecuteTime": {
     "end_time": "2024-01-19T16:37:41.720021982Z",
     "start_time": "2024-01-19T16:37:41.715397012Z"
    }
   },
   "outputs": [
    {
     "data": {
      "text/plain": [
       "array(['b', 'c'], dtype='<U1')"
      ]
     },
     "execution_count": 31,
     "metadata": {},
     "output_type": "execute_result"
    }
   ],
   "source": [
    "z[1:3]"
   ]
  },
  {
   "cell_type": "markdown",
   "id": "345826d1",
   "metadata": {},
   "source": [
    "### Arrays und Listen Zuweisung\n",
    "\n",
    "Eine zugängige Erläuterung, wie Werte im Speicher des Rechners gespeichert werden, finden Sie in [hier](https://mvschamanth.medium.com/inside-python-are-variables-memory-references-a7522808be93)."
   ]
  },
  {
   "cell_type": "code",
   "execution_count": 25,
   "id": "85f9e88bc0569a4d",
   "metadata": {
    "ExecuteTime": {
     "end_time": "2024-01-19T16:37:55.010524431Z",
     "start_time": "2024-01-19T16:37:55.002336505Z"
    }
   },
   "outputs": [
    {
     "data": {
      "text/plain": [
       "array(['a', 'x', 'c', 'd', 'e'], dtype='<U1')"
      ]
     },
     "execution_count": 25,
     "metadata": {},
     "output_type": "execute_result"
    }
   ],
   "source": [
    "z[1] = \"x\"\n",
    "z"
   ]
  },
  {
   "cell_type": "code",
   "execution_count": 26,
   "id": "b9cbe174",
   "metadata": {},
   "outputs": [],
   "source": [
    "z1 = z"
   ]
  },
  {
   "cell_type": "code",
   "execution_count": 27,
   "id": "07a6f3ea",
   "metadata": {},
   "outputs": [],
   "source": [
    "z[0] = \"X\""
   ]
  },
  {
   "cell_type": "code",
   "execution_count": 28,
   "id": "b71acf77",
   "metadata": {},
   "outputs": [
    {
     "data": {
      "text/plain": [
       "array(['X', 'x', 'c', 'd', 'e'], dtype='<U1')"
      ]
     },
     "execution_count": 28,
     "metadata": {},
     "output_type": "execute_result"
    }
   ],
   "source": [
    "z1"
   ]
  },
  {
   "cell_type": "code",
   "execution_count": 29,
   "id": "1196a576",
   "metadata": {},
   "outputs": [
    {
     "data": {
      "text/plain": [
       "array([ True,  True,  True,  True,  True])"
      ]
     },
     "execution_count": 29,
     "metadata": {},
     "output_type": "execute_result"
    }
   ],
   "source": [
    "z1 == z"
   ]
  }
 ],
 "metadata": {
  "kernelspec": {
   "display_name": "econ2025-de",
   "language": "python",
   "name": "python3"
  },
  "language_info": {
   "codemirror_mode": {
    "name": "ipython",
    "version": 3
   },
   "file_extension": ".py",
   "mimetype": "text/x-python",
   "name": "python",
   "nbconvert_exporter": "python",
   "pygments_lexer": "ipython3",
   "version": "3.11.11"
  }
 },
 "nbformat": 4,
 "nbformat_minor": 5
}
