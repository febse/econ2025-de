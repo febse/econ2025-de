{
 "cells": [
  {
   "cell_type": "markdown",
   "id": "75decfcd",
   "metadata": {},
   "source": [
    "## Interaktionseffekte\n",
    "\n",
    "Open in Colab: [![Open in Colab](https://colab.research.google.com/assets/colab-badge.svg)](https://colab.research.google.com/github/febse/econ2025-de/blob/main/10-Interaction-Effects.ipynb)\n"
   ]
  },
  {
   "cell_type": "code",
   "execution_count": null,
   "id": "c56ea882",
   "metadata": {
    "vscode": {
     "languageId": "r"
    }
   },
   "outputs": [],
   "source": [
    "# Load the data\n",
    "stu <- read.csv(\"https://raw.githubusercontent.com/febse/data/main/econ/drinking.csv\") %>%\n",
    "  mutate(\n",
    "    sex = ifelse(male == 1, \"M\", \"F\")\n",
    "  )\n",
    "\n",
    "# Print the first few rows\n",
    "stu %>% head()"
   ]
  },
  {
   "cell_type": "code",
   "execution_count": null,
   "id": "7bb96f01",
   "metadata": {
    "vscode": {
     "languageId": "r"
    }
   },
   "outputs": [],
   "source": [
    "# Plot the data and overlay the regression line for gpa ~ drinks\n"
   ]
  },
  {
   "cell_type": "markdown",
   "id": "7524e620",
   "metadata": {},
   "source": [
    "Schätzen Sie die folgenden Modelle und interpretieren Sie die Koeffizienten. \n",
    "\n",
    "- $\\text{gpa}_i = \\beta_0 + \\beta_1 \\text{drink}_i + e_i$\n",
    "- $\\text{gpa}_i = \\beta_0 + \\beta_1 \\text{sexMale}_i + e_i$\n",
    "- $\\text{gpa}_i =\\beta_0 + \\beta_1 \\text{drink}_i + \\beta_2 \\text{sexMale}_i + e_i$\n",
    "- $\\text{gpa}_i = \\beta_0 + \\beta_1 \\text{drink}_i + \\beta_2 \\text{sexMale}_i +\n",
    "\\beta_3 \\text{gpa}_i \\cdot \\text{sexMale}_i$"
   ]
  },
  {
   "cell_type": "code",
   "execution_count": null,
   "id": "ec886b14",
   "metadata": {
    "vscode": {
     "languageId": "r"
    }
   },
   "outputs": [],
   "source": []
  },
  {
   "cell_type": "markdown",
   "id": "793c897d",
   "metadata": {},
   "source": [
    "## Polynomiale Regression\n",
    "\n",
    "Zuerst generieren wir Daten aus dem folgenden Modell:\n",
    "\n",
    "$$\n",
    "y_i = 2 + x_i + x^2 + e_i, e_i \\sim N(0, 1)\n",
    "$$\n"
   ]
  },
  {
   "cell_type": "code",
   "execution_count": null,
   "id": "e361b1c1",
   "metadata": {
    "vscode": {
     "languageId": "r"
    }
   },
   "outputs": [],
   "source": [
    "## Create the simulated sample\n",
    "sim_n <- 100\n",
    "\n",
    "poly_dt <- tibble(\n",
    "  x = runif(n = sim_n, min = -4, max = 3),\n",
    "  y = 2 +  x +  x^2 + rnorm(n = sim_n, mean = 0, sd = 1)\n",
    ")\n",
    "\n",
    "poly_dt %>%\n",
    "  ggplot(aes(x = x, y = y)) +\n",
    "  geom_point()\n"
   ]
  },
  {
   "cell_type": "markdown",
   "id": "216101c8",
   "metadata": {},
   "source": [
    "\n",
    "2.  Schätzen Sie ein lineares Regressionsmodell mit einem linearen Term für $x$. Schauen Sie sich die Regressionsgerade an, als auch die Residuen. Was fällt Ihnen auf?\n",
    "\n",
    "$$\n",
    "y_i = \\beta_0 + \\beta_1 x_i, e_i \\sim N(0, \\sigma^2)\n",
    "$$\n"
   ]
  },
  {
   "cell_type": "code",
   "execution_count": null,
   "id": "b6270ada",
   "metadata": {
    "vscode": {
     "languageId": "r"
    }
   },
   "outputs": [],
   "source": []
  },
  {
   "cell_type": "code",
   "execution_count": null,
   "id": "16befde3",
   "metadata": {
    "vscode": {
     "languageId": "r"
    }
   },
   "outputs": [],
   "source": [
    "fit1_pred <- predict(\n",
    "  fit1,\n",
    "  interval = \"confidence\"\n",
    "  ) %>%\n",
    "  as_tibble() %>%\n",
    "  bind_cols(poly_dt) %>%\n",
    "  mutate(\n",
    "    res = y - fit\n",
    "  )"
   ]
  },
  {
   "cell_type": "code",
   "execution_count": null,
   "id": "b476d7b6",
   "metadata": {
    "vscode": {
     "languageId": "r"
    }
   },
   "outputs": [],
   "source": [
    "fit1_pred %>%\n",
    "  ggplot(aes(x = fit, y = res)) +\n",
    "  geom_point() +\n",
    "  geom_hline(yintercept = 0, alpha = 0.5, lty = 2) +\n",
    "  labs(\n",
    "    x = \"Predicted\",\n",
    "    y = \"Residual\"\n",
    "  )"
   ]
  },
  {
   "cell_type": "markdown",
   "id": "f168a6da",
   "metadata": {},
   "source": [
    "\n",
    "3.  Schätzen Sie ein polynomiales Regressionsmodell mit einem quadratischen Term für $x$. Schauen Sie sich die Regressionsgerade an, als auch die Residuen. \n",
    "\n",
    "$$\n",
    "y_i = \\beta_0 + \\beta_1 x_i + \\beta_2 x^2_i + e_i, e_i \\sim N(0, \\sigma^2)\n",
    "$$\n"
   ]
  },
  {
   "cell_type": "code",
   "execution_count": null,
   "id": "a54434ab",
   "metadata": {
    "vscode": {
     "languageId": "r"
    }
   },
   "outputs": [],
   "source": [
    "fit2_pred <- predict(fit2, interval = \"confidence\") %>%\n",
    "  as_tibble() %>%\n",
    "  bind_cols(poly_dt) %>%\n",
    "  mutate(\n",
    "    res = y - fit\n",
    "  )"
   ]
  },
  {
   "cell_type": "code",
   "execution_count": null,
   "id": "57b5eb94",
   "metadata": {
    "vscode": {
     "languageId": "r"
    }
   },
   "outputs": [],
   "source": [
    "fit2_pred %>%\n",
    "  ggplot(aes(x = x, y = y)) +\n",
    "  geom_point() +\n",
    "  geom_line(\n",
    "    aes(y = fit),\n",
    "    color = \"steelblue2\"\n",
    "  ) +\n",
    "  geom_ribbon(\n",
    "    aes(ymin = lwr, ymax = upr),\n",
    "    alpha = 0.2,\n",
    "    fill = \"steelblue2\"\n",
    "  )"
   ]
  },
  {
   "cell_type": "code",
   "execution_count": null,
   "id": "fd9f7e92",
   "metadata": {
    "vscode": {
     "languageId": "r"
    }
   },
   "outputs": [],
   "source": [
    "fit2_pred %>%\n",
    "  ggplot(aes(x = fit, y = res)) +\n",
    "  geom_point() +\n",
    "  geom_hline(yintercept = 0, alpha = 0.5, lty = 2) +\n",
    "  labs(\n",
    "    x = \"Predicted\",\n",
    "    y = \"Residual\"\n",
    "  )"
   ]
  },
  {
   "cell_type": "markdown",
   "id": "74b9a591",
   "metadata": {},
   "source": [
    "4.  Schätzen Sie das folgende polynomiale Regressionsmodell:\n",
    "\n",
    "$$\n",
    "y_i = \\beta_0 + \\beta_1 x_i + \\beta_2 x^2_i + \\beta_3 x^3_i + \\beta_4 x^4_i + e_i, e_i \\sim N(0, \\sigma^2)\n",
    "$$"
   ]
  },
  {
   "cell_type": "code",
   "execution_count": null,
   "id": "c608a989",
   "metadata": {
    "vscode": {
     "languageId": "r"
    }
   },
   "outputs": [],
   "source": []
  },
  {
   "cell_type": "code",
   "execution_count": null,
   "id": "a8383bd2",
   "metadata": {
    "vscode": {
     "languageId": "r"
    }
   },
   "outputs": [],
   "source": [
    "fit3_pred <- predict(fit3, interval = \"confidence\") %>%\n",
    "  as_tibble() %>%\n",
    "  bind_cols(poly_dt) %>%\n",
    "  mutate(\n",
    "    res = y - fit\n",
    "  )"
   ]
  },
  {
   "cell_type": "code",
   "execution_count": null,
   "id": "87abb6ed",
   "metadata": {
    "vscode": {
     "languageId": "r"
    }
   },
   "outputs": [],
   "source": [
    "fit3_pred %>%\n",
    "  ggplot(aes(x = x, y = y)) +\n",
    "  geom_point() +\n",
    "  geom_line(\n",
    "    aes(y = fit),\n",
    "    color = \"steelblue2\"\n",
    "  ) +\n",
    "  geom_ribbon(\n",
    "    aes(ymin = lwr, ymax = upr),\n",
    "    alpha = 0.2,\n",
    "    fill = \"steelblue2\"\n",
    "  )"
   ]
  },
  {
   "cell_type": "code",
   "execution_count": null,
   "id": "aadd5fb6",
   "metadata": {
    "vscode": {
     "languageId": "r"
    }
   },
   "outputs": [],
   "source": [
    "fit3_pred %>%\n",
    "  ggplot(aes(x = fit, y = res)) +\n",
    "  geom_point() +\n",
    "  geom_hline(yintercept = 0, alpha = 0.5, lty = 2) +\n",
    "  labs(\n",
    "    x = \"Predicted\",\n",
    "    y = \"Residual\"\n",
    "  )"
   ]
  },
  {
   "cell_type": "markdown",
   "id": "c8528d7f",
   "metadata": {},
   "source": [
    "## Model choice\n",
    "\n",
    "1.  $R^2$\n",
    "\n",
    "$$\n",
    "R^2 = 1 - \\frac{RSS}{TSS} \\\\\n",
    "RSS = \\sum_{i = 1}^{n}(y_i - \\hat{y}_i)^2 \\\\\n",
    "TSS = \\sum_{i = 1}^{n}(y_i - \\bar{y})^2\n",
    "$$\n",
    "\n",
    "- Berechnen Sie $R^2$ für die Modelle aus den obigen Aufgaben 2, 3 und 4. Welches Modell hat das höchste $R^2$?\n",
    "\n",
    "- Berechnen Sie $R^2$ für die Modelle mit Testdaten. Welches Modell hat das höchste $R^2$?\n"
   ]
  },
  {
   "cell_type": "code",
   "execution_count": null,
   "id": "13e7cac6",
   "metadata": {
    "vscode": {
     "languageId": "r"
    }
   },
   "outputs": [],
   "source": [
    "sim_noconst <- tibble(\n",
    "  y = 2 + rnorm(n = 100, mean = 0, sd = 1),\n",
    "  x = runif(n = 100)\n",
    ")\n",
    "\n",
    "sim_noconst %>%\n",
    "  ggplot(aes(x = x, y = y)) +\n",
    "  geom_point()"
   ]
  },
  {
   "cell_type": "markdown",
   "id": "c4675ccf",
   "metadata": {},
   "source": [
    "2.  Adjusted $R^2$\n",
    "\n",
    "$$\n",
    "R^2_{ADJ} = 1 - \\frac{n - 1}{n - p - 1} \\frac{RSS}{TSS}\n",
    "$$\n",
    "\n",
    "3.  Information Criteria\n",
    "\n",
    "Compute the Akaike information criterion (AIC) for the three models and choose the best one.\n",
    "\n",
    "$$\n",
    "\\text{AIC} = n \\log\\left(\\frac{RSS}{n}\\right) + 2p + n + n \\log(2\\pi).\n",
    "$$"
   ]
  },
  {
   "cell_type": "code",
   "execution_count": null,
   "id": "086e5cf1",
   "metadata": {
    "vscode": {
     "languageId": "r"
    }
   },
   "outputs": [],
   "source": [
    "AIC(fit1)\n",
    "AIC(fit2)\n",
    "AIC(fit3)"
   ]
  },
  {
   "cell_type": "code",
   "execution_count": null,
   "id": "f9747f38",
   "metadata": {
    "vscode": {
     "languageId": "r"
    }
   },
   "outputs": [],
   "source": [
    "smpl <- sample(1:100, 20)\n",
    "poly_dt_estim <- poly_dt[smpl, ]\n",
    "poly_dt_test <- poly_dt[-smpl, ]\n",
    "\n",
    "fit2_estim <- lm(y ~ poly(x, 4), data = poly_dt_estim)\n",
    "fit5_test <- lm(y ~ poly(x, 4), data = poly_dt_test)\n",
    "\n",
    "pred2 <- predict(fit2_estim, newdata = poly_dt_estim)\n",
    "pred5 <- predict(fit2_estim, newdata = poly_dt_estim)"
   ]
  }
 ],
 "metadata": {
  "language_info": {
   "name": "python"
  }
 },
 "nbformat": 4,
 "nbformat_minor": 5
}
