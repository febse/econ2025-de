{
  "cells": [
    {
      "cell_type": "markdown",
      "id": "da1b4d15",
      "metadata": {
        "id": "da1b4d15"
      },
      "source": [
        "# Kategoriale Variablen\n",
        "\n",
        "Open in Colab: [![Open in Colab](https://colab.research.google.com/assets/colab-badge.svg)](https://colab.research.google.com/github/febse/econ2025-de/blob/main/09-Categorical-Variables.ipynb)\n",
        "\n",
        "## Simpson's paradox\n",
        "\n",
        "Der Datensatz `berkley` enthält Informationen über Zulassungen an die University of California, Berkeley. Die Variablen sind:\n",
        "- `Major`: Studienrichtung (A, B, C, etc.)\n",
        "- `Gender`: Geschlecht (M, F)\n",
        "- `Admission`: Zulassung (Accepted, Rejected)\n",
        "- `is_rejected`: Eine Indikatorvariable, die angibt, ob eine Person abgelehnt wurde (1) oder nicht (0)\n"
      ]
    },
    {
      "cell_type": "code",
      "execution_count": null,
      "id": "XuVhFdOOhW3S",
      "metadata": {
        "colab": {
          "base_uri": "https://localhost:8080/",
          "height": 425
        },
        "id": "XuVhFdOOhW3S",
        "outputId": "2072dc31-3cd3-4f18-e5ac-26dc33c0e1fd"
      },
      "outputs": [],
      "source": [
        "library(tidyverse)\n",
        "\n",
        "## Simpson's paradox (1)\n",
        "\n",
        "berkley <- read_csv(\n",
        "  \"https://waf.cs.illinois.edu/discovery/berkeley.csv\"\n",
        "  ) %>%\n",
        "  mutate(\n",
        "    is_rejected = ifelse(Admission == \"Accepted\", 0, 1),\n",
        "  )\n",
        "\n",
        "berkley %>% head()"
      ]
    },
    {
      "cell_type": "code",
      "execution_count": null,
      "id": "8QZiRDTwhzIz",
      "metadata": {
        "colab": {
          "base_uri": "https://localhost:8080/",
          "height": 161
        },
        "id": "8QZiRDTwhzIz",
        "outputId": "e3a19385-0c8e-48b5-e66e-7de801162933"
      },
      "outputs": [],
      "source": [
        "berkley %>%\n",
        "  group_by(Gender) %>%\n",
        "    summarize(\n",
        "        n = n(),\n",
        "        n_rejected = sum(is_rejected),\n",
        "        p_rejected = round(mean(is_rejected), 2)\n",
        "    )"
      ]
    },
    {
      "cell_type": "code",
      "execution_count": null,
      "id": "K5q4QcRoh5WX",
      "metadata": {
        "colab": {
          "base_uri": "https://localhost:8080/",
          "height": 572
        },
        "id": "K5q4QcRoh5WX",
        "outputId": "2cb8e2c8-6cd7-4104-e2c3-9e28f4f61a58"
      },
      "outputs": [],
      "source": [
        "admission_by_major_gender <- berkley %>%\n",
        "  group_by(Major, Gender) %>%\n",
        "    summarize(\n",
        "        n = n(),\n",
        "        n_rejected = sum(is_rejected),\n",
        "        p_rejected = round(mean(is_rejected), 2)\n",
        "    )\n",
        "admission_by_major_gender"
      ]
    },
    {
      "cell_type": "code",
      "execution_count": null,
      "id": "lQ1n7NnriFjt",
      "metadata": {
        "id": "lQ1n7NnriFjt"
      },
      "outputs": [],
      "source": [
        "admission_by_major_gender %>%\n",
        "  ggplot(aes(x = Major, y = p_rejected, fill=Gender)) +\n",
        "    geom_bar(stat = \"identity\", position = \"dodge\") +\n",
        "    labs(\n",
        "      y = \"Admission rate\",\n",
        "      x = \"Major\"\n",
        "    ) +\n",
        "    theme(axis.text.x = element_text(angle = 45, hjust = 1))"
      ]
    },
    {
      "cell_type": "markdown",
      "id": "6C-aYAmjj1DE",
      "metadata": {
        "id": "6C-aYAmjj1DE"
      },
      "source": [
        "## Regression with Categorical Variables\n",
        "\n"
      ]
    },
    {
      "cell_type": "code",
      "execution_count": null,
      "id": "rcGOl14Dj56H",
      "metadata": {
        "colab": {
          "base_uri": "https://localhost:8080/",
          "height": 286
        },
        "id": "rcGOl14Dj56H",
        "outputId": "f1239bd8-bb7e-4b97-cedd-e0dbecca7ef5"
      },
      "outputs": [],
      "source": [
        "berkley %>% head()"
      ]
    },
    {
      "cell_type": "code",
      "execution_count": null,
      "id": "8_dQOy0Uj8af",
      "metadata": {
        "colab": {
          "base_uri": "https://localhost:8080/",
          "height": 255
        },
        "id": "8_dQOy0Uj8af",
        "outputId": "1cd591f8-8bbc-450a-8f18-01774f7f1070"
      },
      "outputs": [],
      "source": [
        "model_matrix <- model.matrix(lm(is_rejected ~ 0 + Gender, data = berkley))\n",
        "model_matrix %>% head()"
      ]
    },
    {
      "cell_type": "code",
      "execution_count": null,
      "id": "KR3u5j_AkJHF",
      "metadata": {
        "colab": {
          "base_uri": "https://localhost:8080/",
          "height": 286
        },
        "id": "KR3u5j_AkJHF",
        "outputId": "ec4a06a4-3a69-48cb-ae6f-06ace5c2d25b"
      },
      "outputs": [],
      "source": [
        "berkey <- berkley %>%\n",
        "  bind_cols(model_matrix)\n",
        "berkey %>% head()"
      ]
    },
    {
      "cell_type": "markdown",
      "id": "518ddd92",
      "metadata": {},
      "source": [
        "Lassen Sie uns die Mittelwerte der Indikatorvariable für die Zulassung nach Geschlecht und Studienrichtung berechnen.\n",
        "\n",
        "Das Modell ist wie folgt:\n",
        "\n",
        "$$\n",
        "\\widehat{\\text{is\\_rejected}}_i = \\hat{\\beta}_0 + \\hat{\\beta}_{F} \\text{GenderF}_i + \\hat{\\beta}_{M} \\text{GenderM}_i  \n",
        "$$\n",
        "\n",
        "Eine alternative Art und Weise, das Modell zu schreiben, ist:\n",
        "\n",
        "$$\n",
        "\\widehat{\\text{is\\_rejected}}_i = \\hat{\\beta}_0 + \\hat{\\beta}_{\\text{Gender}[i]}\n",
        "$$\n"
      ]
    },
    {
      "cell_type": "code",
      "execution_count": null,
      "id": "Y6F33W4Uic7F",
      "metadata": {
        "colab": {
          "base_uri": "https://localhost:8080/",
          "height": 330
        },
        "id": "Y6F33W4Uic7F",
        "outputId": "d17efd23-d74e-4b07-fa03-9de89086ac16"
      },
      "outputs": [],
      "source": [
        "lm(is_rejected ~ Gender, data = berkley) %>%\n",
        "  summary()"
      ]
    },
    {
      "cell_type": "code",
      "execution_count": null,
      "id": "1AftA9SwjNxq",
      "metadata": {
        "id": "1AftA9SwjNxq"
      },
      "outputs": [],
      "source": []
    },
    {
      "cell_type": "markdown",
      "id": "F9tnsj-KjQQr",
      "metadata": {
        "id": "F9tnsj-KjQQr"
      },
      "source": [
        "## BIP pro Kopf und Staatsausgaben\n",
        "\n",
        "Der Datensatz `gdp2019` enthält die BIP pro Kopf in aktuellen Preisen für 142 Länder im Jahr 2019. Darüber hinaus zeigt die Variable `spending` die Staatsausgaben in diesen Ländern als Anteil (in Prozent) des BIP.\n",
        "\n",
        "-   `gdppc` (numeric): [BIP pro Kopf](https://www.imf.org/external/datamapper/NGDPDPC@WEO/OEMDC/ADVEC/WEOWORLD) in USD (aktuelle Preise)\n",
        "-   `spending` (numeric): [Staatsausgaben als Anteil des BIP](https://www.imf.org/external/datamapper/exp@FPP/USA/FRA/JPN/GBR/SWE/ESP/ITA/ZAF/IND)."
      ]
    },
    {
      "cell_type": "code",
      "execution_count": null,
      "id": "c8NthniFjgs6",
      "metadata": {
        "id": "c8NthniFjgs6"
      },
      "outputs": [],
      "source": [
        "gdp2019 <- read_csv(\n",
        "  \"https://raw.githubusercontent.com/feb-sofia/econometrics-2023/main/data/gdpgov2019.csv\"\n",
        "  ) %>%\n",
        "  filter(!is.na(spending))\n",
        "\n",
        "gdp2019 %>% head()"
      ]
    },
    {
      "cell_type": "markdown",
      "id": "cXvb442tjoKZ",
      "metadata": {
        "id": "cXvb442tjoKZ"
      },
      "source": [
        "1.  Zuerst möchten wir uns die Daten anschauen\n",
        "\n",
        "$$\n",
        "\\text{gdppc}_i = \\beta_0 + \\beta_1 \\text{spending}_i + e_i, \\quad e_i \\sim N(0, \\sigma^2)\n",
        "$$\n"
      ]
    },
    {
      "cell_type": "code",
      "execution_count": null,
      "id": "l_E1dvzBjrPN",
      "metadata": {
        "colab": {
          "base_uri": "https://localhost:8080/",
          "height": 593
        },
        "id": "l_E1dvzBjrPN",
        "outputId": "54a4d9cb-d5bc-45aa-97ba-430b0812d249"
      },
      "outputs": [],
      "source": [
        "gdp2019 %>%\n",
        "  ggplot(aes(x = spending, y = gdppc)) +\n",
        "  geom_point() +\n",
        "  geom_smooth(method = \"lm\") +\n",
        "  labs(\n",
        "    y = \"GDP per capita\",\n",
        "    x = \"Gov. spending\"\n",
        "  ) +\n",
        "  lims(\n",
        "    x = c(0, 70),\n",
        "    y = c(0, 90000)\n",
        "  )"
      ]
    },
    {
      "cell_type": "code",
      "execution_count": null,
      "id": "l-ZO9rl1jv6T",
      "metadata": {
        "id": "l-ZO9rl1jv6T"
      },
      "outputs": [],
      "source": [
        "# Estimate the model\n"
      ]
    },
    {
      "cell_type": "markdown",
      "id": "H4fh2bP-kyJz",
      "metadata": {
        "id": "H4fh2bP-kyJz"
      },
      "source": [
        "2.  Nun möchten wir die Daten in Kategorien einteilen. Wir verwenden die folgende Einteilung:\n",
        "\n",
        "-   Low: if $\\text{gdppc} \\leq 1025$\n",
        "-   Medium-low: if $1025 < \\text{gdppc} \\leq 3995$\n",
        "-   Medium-high: if $3995 < \\text{gdppc} \\leq 12375$\n",
        "-   High: if $12375 < \\text{gdppc} \\leq 30000$\n",
        "-   Very high: if $\\text{gdppc} > 30000$"
      ]
    },
    {
      "cell_type": "code",
      "execution_count": null,
      "id": "BfxYQ_mlkxBk",
      "metadata": {
        "colab": {
          "base_uri": "https://localhost:8080/",
          "height": 69
        },
        "id": "BfxYQ_mlkxBk",
        "outputId": "2495ff5e-6e8d-4241-a5c4-e190fc259a14"
      },
      "outputs": [],
      "source": [
        "gdp2019 <- gdp2019 %>%\n",
        "  mutate(\n",
        "    gdppc_gr = cut(\n",
        "      gdppc,\n",
        "      breaks = c(0, 1025, 3995, 12375, 30000, Inf),\n",
        "      labels = c(\"Low\", \"Medium-low\", \"Medium-high\", \"High\", \"Very high\"))\n",
        "  )\n",
        "table(gdp2019$gdppc_gr)"
      ]
    },
    {
      "cell_type": "markdown",
      "id": "AYRyUJ-Ik4tP",
      "metadata": {
        "id": "AYRyUJ-Ik4tP"
      },
      "source": [
        "1. Wir schätzen zuerst ein lineares Modell mit den Kategorien als Dummy-Variablen:\n",
        "\n",
        "$$\n",
        "\\text{gdppc}_i = \\beta_0 + \\beta_{\\text{gdppc\\_gr}[i]} + e_i, e_i \\sim N(0, \\sigma^2)\n",
        "$$\n",
        "\n",
        "Dabei ist:\n",
        "\n",
        "$$\n",
        "\\beta_{\\text{gdppc\\_gr}[i]} = \\begin{cases}\n",
        "\\beta_{\\text{low}} & \\text{falls } \\text{gdppc\\_gr}_i = \\text{Low} \\\\\n",
        "\\beta_{\\text{medium-low}} & \\text{falls } \\text{gdppc\\_gr}_i = \\text{Medium-low} \\\\\n",
        "\\beta_{\\text{medium-high}} & \\text{falls } \\text{gdppc\\_gr}_i = \\text{Medium-high} \\\\\n",
        "\\beta_{\\text{high}} & \\text{falls } \\text{gdppc\\_gr}_i = \\text{High} \\\\\n",
        "\\beta_{\\text{very-high}} & \\text{falls } \\text{gdppc\\_gr}_i = \\text{Very high}\n",
        "\\end{cases}\n",
        "$$\n",
        "\n",
        "Eine andere Art und Weise, das Modell aufzuschreiben, ist:\n",
        "\n",
        "$$\n",
        "\\text{gdppc}_i = \\beta_0 + \\beta_1 \\text{low}_i + \\beta_2 \\text{medium-low}_i + \\beta_3 \\text{medium-high}_i + \\beta_4 \\text{high}_i + \\beta_5 \\text{very-high}_i + e_i, e_i \\sim N(0, \\sigma^2)\n",
        "$$\n",
        "\n"
      ]
    },
    {
      "cell_type": "code",
      "execution_count": null,
      "id": "4gBY5OU7k5r2",
      "metadata": {
        "id": "4gBY5OU7k5r2"
      },
      "outputs": [],
      "source": []
    },
    {
      "cell_type": "code",
      "execution_count": null,
      "id": "PgtmQaLclK6B",
      "metadata": {
        "colab": {
          "base_uri": "https://localhost:8080/",
          "height": 593
        },
        "id": "PgtmQaLclK6B",
        "outputId": "60d0ab7f-810d-47bf-d0e6-e4720df3efac"
      },
      "outputs": [],
      "source": [
        "gdp2019 %>%\n",
        "  ggplot(aes(x = spending, y = gdppc)) +\n",
        "  geom_point(aes( color = gdppc_gr)) +\n",
        "  geom_smooth(method = \"lm\") +\n",
        "  # geom_abline(\n",
        "  #   intercept = c(-144.39, 1308.32, 5835.94, 18460.21, 51920.69),\n",
        "  #   slope = 44.80,\n",
        "  #   alpha = 0.5\n",
        "  # ) +\n",
        "  lims(\n",
        "    x = c(0, 80),\n",
        "    y = c(0, 90000)\n",
        "  )"
      ]
    }
  ],
  "metadata": {
    "colab": {
      "provenance": []
    },
    "kernelspec": {
      "display_name": "econ2025-de",
      "language": "python",
      "name": "python3"
    },
    "language_info": {
      "name": "python",
      "version": "3.11.11"
    }
  },
  "nbformat": 4,
  "nbformat_minor": 5
}
