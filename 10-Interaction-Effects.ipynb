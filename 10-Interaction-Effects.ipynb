{
 "cells": [
  {
   "cell_type": "markdown",
   "id": "75decfcd",
   "metadata": {},
   "source": [
    "# Interaktionseffekte\n",
    "\n",
    "Open in Colab: [![Open in Colab](https://colab.research.google.com/assets/colab-badge.svg)](https://colab.research.google.com/github/febse/econ2025-de/blob/main/10-Interaction-Effects.ipynb)\n"
   ]
  },
  {
   "cell_type": "code",
   "execution_count": null,
   "id": "c56ea882",
   "metadata": {
    "vscode": {
     "languageId": "r"
    }
   },
   "outputs": [],
   "source": [
    "# Load the data\n",
    "stu <- read.csv(\"https://raw.githubusercontent.com/febse/data/main/econ/drinking.csv\") %>%\n",
    "  mutate(\n",
    "    sex = ifelse(male == 1, \"M\", \"F\")\n",
    "  )\n",
    "\n",
    "# Print the first few rows\n",
    "stu %>% head()"
   ]
  },
  {
   "cell_type": "markdown",
   "id": "7524e620",
   "metadata": {},
   "source": [
    "Schätzen Sie die folgenden Modelle und interpretieren Sie die Koeffizienten. \n",
    "\n",
    "- $\\text{gpa}_i = \\beta_0 + \\beta_1 \\text{drink}_i + e_i$\n",
    "- $\\text{gpa}_i = \\beta_0 + \\beta_1 \\text{sexMale}_i + e_i$\n",
    "- $\\text{gpa}_i =\\beta_0 + \\beta_1 \\text{drink}_i + \\beta_2 \\text{sexMale}_i + e_i$\n",
    "- $\\text{gpa}_i = \\beta_0 + \\beta_1 \\text{drink}_i + \\beta_2 \\text{sexMale}_i +\n",
    "\\beta_3 \\text{gpa}_i \\cdot \\text{sexMale}_i$"
   ]
  },
  {
   "cell_type": "code",
   "execution_count": null,
   "id": "ec886b14",
   "metadata": {
    "vscode": {
     "languageId": "r"
    }
   },
   "outputs": [],
   "source": [
    "fit1 <- lm(gpa ~ drink, data = stu)\n",
    "summary(fit1)\n"
   ]
  },
  {
   "cell_type": "code",
   "execution_count": null,
   "id": "a8a43634",
   "metadata": {
    "vscode": {
     "languageId": "r"
    }
   },
   "outputs": [],
   "source": [
    "fit2 <- lm(gpa ~ sex, data = stu)\n",
    "summary(fit2)\n"
   ]
  },
  {
   "cell_type": "code",
   "execution_count": null,
   "id": "da860529",
   "metadata": {
    "vscode": {
     "languageId": "r"
    }
   },
   "outputs": [],
   "source": [
    "fit3 <- lm(gpa ~ sex + drink, data = stu)\n",
    "summary(fit3)"
   ]
  },
  {
   "cell_type": "code",
   "execution_count": null,
   "id": "0fa6ff35",
   "metadata": {
    "vscode": {
     "languageId": "r"
    }
   },
   "outputs": [],
   "source": [
    "fit4 <- lm(gpa ~ sex * drink, data = stu)\n",
    "summary(fit4)"
   ]
  }
 ],
 "metadata": {
  "language_info": {
   "name": "python"
  }
 },
 "nbformat": 4,
 "nbformat_minor": 5
}
